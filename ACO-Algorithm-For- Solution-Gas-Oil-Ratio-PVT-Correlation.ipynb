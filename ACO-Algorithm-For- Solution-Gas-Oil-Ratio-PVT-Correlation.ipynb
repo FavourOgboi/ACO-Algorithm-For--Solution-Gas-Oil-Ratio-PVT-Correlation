{
 "cells": [
  {
   "cell_type": "markdown",
   "id": "c53cd4a3-f2a6-4768-9fc3-b116d81212da",
   "metadata": {},
   "source": [
    "# Ant Colony Optimization Algorithm\n",
    "\n",
    "<div style=\"text-align:center;\">\r\n",
    "    <img src=\"https://media.licdn.com/dms/image/D4D12AQEHTGck0kSFpg/article-cover_image-shrink_720_1280/0/1701501705964?e=2147483647&v=beta&t=VQ_JFDABErltf0YowydNWzMiCINqVETmLm0MLyzt2rw\" alt=\"A Comment Jpeg\" width=\"500\" height=\"250\">\r\n",
    "</di\n",
    "\n",
    ">\r\n"
   ]
  },
  {
   "cell_type": "code",
   "execution_count": null,
   "id": "eb638b59-4210-4c18-8f83-34da24910b10",
   "metadata": {},
   "outputs": [],
   "source": []
  }
 ],
 "metadata": {
  "kernelspec": {
   "display_name": "Python 3 (ipykernel)",
   "language": "python",
   "name": "python3"
  },
  "language_info": {
   "codemirror_mode": {
    "name": "ipython",
    "version": 3
   },
   "file_extension": ".py",
   "mimetype": "text/x-python",
   "name": "python",
   "nbconvert_exporter": "python",
   "pygments_lexer": "ipython3",
   "version": "3.12.4"
  }
 },
 "nbformat": 4,
 "nbformat_minor": 5
}
