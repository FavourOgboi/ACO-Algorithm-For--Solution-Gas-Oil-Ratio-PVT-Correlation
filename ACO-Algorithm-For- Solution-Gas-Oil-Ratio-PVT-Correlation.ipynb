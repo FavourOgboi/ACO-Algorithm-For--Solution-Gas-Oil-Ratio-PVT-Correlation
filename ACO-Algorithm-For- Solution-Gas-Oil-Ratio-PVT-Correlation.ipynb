{
 "cells": [
  {
   "cell_type": "markdown",
   "id": "8c1eca1d-1d6d-483b-81e9-6a120c451367",
   "metadata": {},
   "source": [
    "# Gas-Oil Ratio Prediction Using Ant Colony Optimization\r\n",
    "<div style=\"text-align:center;\">\n",
    "    <img src=\"https://media.licdn.com/dms/image/D4D12AQEHTGck0kSFpg/article-cover_image-shrink_720_1280/0/1701501705964?e=2147483647&v=beta&t=VQ_JFDABErltf0YowydNWzMiCINqVETmLm0MLyzt2rw\" alt=\"A Comment Jpeg\" width=\"500\" height=\"250\">\n",
    "</div>\n",
    "\n",
    "\r\n",
    "This project focuses on developing a robust empirical correlation for estimating gas solubility at bubble point pressure and below for black oils. Utilizing the Ant Colony Optimization (ACO) algorithm, the project aims to fine-tune parameters for accurately predicting the Gas-Oil Ratio (GOR) based on PVT (Pressure, Volume, Temperature) data.\r\n",
    "\r\n",
    "### Project Description\r\n",
    "\r\n",
    "### Key Features:\r\n",
    "- **Ant Colony Optimization:** Implements ACO to optimize parameters for the GOR prediction model, providing a novel approach to solving this complex problem.\r\n",
    "- **Statistical Analysis:** Includes detailed statistical analysis comparing the new model's performance with established correlations like Standing’s, Glaso’s, and Petrosky’s.\r\n",
    "- **Streamlit Deployment:** Deploys the prediction model as an interactive web application using Streamlit, enabling users to input PVT data and receive GOR predictions ins### Detailed Explanation:\n",
    "The Ant Colony Optimization Algorithm inspired our approach to optimizing the gas-oil ratio (GOR) prediction model. Here's how the principles of ant colony behavior relate to our problem:\n",
    "\n",
    "- **Decentralized Intelligence:** Like ants use decentralized intelligence to find food, our algorithm uses multiple agents (ants) to explore the solution space for the best-fit parameters.\n",
    "- **Pheromone Trails:** Ants communicate via pheromones, leaving trails that signal the path to food. Similarly, our algorithm leaves \"pheromone\" signals on promising paths (parameter combinations) that lead to accurate GOR predictions.\n",
    "- **Exploration and Exploitation:** Ants balance following existing pheromone trails and exploring new paths. Our algorithm also balances between exploiting known good parameters and exploring new combinations to avoid local minima.\n",
    "- **Convergence:** Over time, ants converge on the shortest path to food. Our algorithm defines the best parameter combinations as the \"shortest path\" to accurate GOR predictions.\n",
    "\n",
    "### Results:\n",
    "- **Superior Accuracy:** The developed correlation outperforms traditional methods, showing lower average relative error and higher correlation coefficients.\n",
    "- **Enhanced Reliability:** Engineers can rely on this newly developed correlation after validation with field data, ensuring better accuracy in the region where the correlation was developed.\n",
    "\n",
    "### Conclusion:\n",
    "The project demonstrates the potential of ACO in optimizing GOR predictions and highlights the benefits of the developed correlation over traditional methods. Future work includes further refinement of the ACO algorithm for faster convergence and broader applicability.\n",
    "\n",
    "### References:\n",
    "- Ant Colony Optimization Algorithms: https://en.wikipedia.org/wiki/Ant_colony_optimization_algorithms\n",
    "\n",
    "- Gas-Oil Ratio: https://www.sciencedirect.com/topics/engineering/gas-oil-ratioconvergence and broader applicability.\r\n"
   ]
  },
  {
   "cell_type": "markdown",
   "id": "c7e06a24-e30c-42e8-890b-c1a2d1243f45",
   "metadata": {},
   "source": [
    "### Importing Dependencies"
   ]
  },
  {
   "cell_type": "code",
   "execution_count": 59,
   "id": "26f31aff-beda-4b35-8ead-9af2761fc477",
   "metadata": {},
   "outputs": [],
   "source": [
    "import sympy as smp\n",
    "from sympy import*\n",
    "import numpy as np\n",
    "from sklearn.linear_model import LinearRegression"
   ]
  },
  {
   "cell_type": "markdown",
   "id": "e9167e08-0e5a-4a1a-8a31-937311c99c5f",
   "metadata": {},
   "source": [
    "### Optimization Algorithm Class"
   ]
  },
  {
   "cell_type": "markdown",
   "id": "721880be-d504-46f7-a018-504ff48aaad2",
   "metadata": {},
   "source": [
    "#### Class Definition and Initialization"
   ]
  },
  {
   "cell_type": "code",
   "execution_count": 37,
   "id": "6da9b0f8-6a94-4fee-b4ae-31e88adab538",
   "metadata": {},
   "outputs": [],
   "source": [
    "class AntColonyOptimization:\n",
    "    def __init__(self, pvt_data, num_ants=10, num_iterations=100, decay=0.95, alpha=1, beta=2):\n",
    "        self.pvt_data = pvt_data\n",
    "        self.num_ants = num_ants\n",
    "        self.num_iterations = num_iterations\n",
    "        self.decay = decay\n",
    "        self.alpha = alpha\n",
    "        self.beta = beta\n",
    "        self.distance_matrix = self.calculate_distance_matrix()\n",
    "        self.pheromone_matrix = np.ones_like(self.distance_matrix) / len(pvt_data)\n",
    "        self.shortest_path = None\n",
    "        self.shortest_cost = np.inf\n"
   ]
  },
  {
   "cell_type": "markdown",
   "id": "dc35c84a-16a8-4029-901e-c57758d3dc6b",
   "metadata": {},
   "source": [
    "\n",
    "\r\n",
    "The `__init__` method initializes the algorithm with the given parameters and input data:\r\n",
    "\r\n",
    "- **pvt_data**: The input data, typically representing properties or measurements of interest.\r\n",
    "- **num_ants**: Number of ants to simulate in the colony, influencing the exploration of paths.\r\n",
    "- **num_iterations**: Number of iterations to run the algorithm, affecting how many times the ants will search for optimal paths.\r\n",
    "- **decay**: Rate at which pheromones deposited on paths evaporate over time, influencing path exploration.\r\n",
    "- **alpha**: Parameter determining the influence of pheromone levels on ant path selection.\r\n",
    "- **beta**: Parameter determining the influence of distance between points on ant path selection.\r\n",
    "- **distance_matrix**: Matrix representing distances between points in the input data, calculated using the `calculate_distance_matrix` method.\r\n",
    "- **pheromone_matrix**: Initial matrix representing pheromone levels on each path, initialized uniformly.\r\n",
    "- **shortest_path** and **shortest_cost**: Variables used to store the best path found by the ants and its associated cost throughout the algorithm'er.\r\n",
    " execution.\r\n"
   ]
  },
  {
   "cell_type": "markdown",
   "id": "55580c84-4279-4554-97e2-9e7cfcf98111",
   "metadata": {},
   "source": [
    "#### Distance Matrix Calculation"
   ]
  },
  {
   "cell_type": "code",
   "execution_count": 41,
   "id": "3108b032-ad2e-4d3c-9551-6440e0ae8827",
   "metadata": {},
   "outputs": [],
   "source": [
    "def calculate_distance_matrix(self):\n",
    "    num_points = len(self.pvt_data)\n",
    "    dist_matrix = np.zeros((num_points, num_points))\n",
    "    for i in range(num_points):\n",
    "        for j in range(num_points):\n",
    "            if i != j:\n",
    "                # Simple distance metric based on the absolute difference in 'bubble_point_pressure'\n",
    "                dist_matrix[i, j] = np.abs(self.pvt_data[i]['bubble_point_pressure'] - self.pvt_data[j]['bubble_point_pressure'])\n",
    "    return dist_matrix"
   ]
  },
  {
   "cell_type": "markdown",
   "id": "bac4fdb1-128a-4942-bcf6-2890b85d4a61",
   "metadata": {},
   "source": [
    "The `calculate_distance_matrix` function in our algorithm takes in data about different points (or samples) characterized by their bubble point pressures. It then computes a matrix that quantifies the differences in bubble point pressures between each pair of points. This matrix is crucial because it defines the distances between points based on their pressure variations. In simpler terms, it helps the algorithm understand how similar or different each pair of points is in terms of their bubble point pressures. \n",
    "\n",
    "This understanding is essential for tasks such as finding optimal paths or clustering similar data points together. For our specific algorithm, this distance matrix serves as a foundation for calculating probabilities that guide ants in finding paths with potentially better solutions, contributing to the optimization process."
   ]
  },
  {
   "cell_type": "markdown",
   "id": "8e876758-b52a-40e1-909d-8d2916c590bc",
   "metadata": {},
   "source": [
    "#### Generating Ant Paths"
   ]
  },
  {
   "cell_type": "code",
   "execution_count": 45,
   "id": "a8c15ff0-eac3-49f2-a8a5-e0d872405204",
   "metadata": {},
   "outputs": [],
   "source": [
    "def generate_ant_paths(self):\n",
    "        num_points = len(self.pvt_data)\n",
    "        ants_paths = []\n",
    "        for _ in range(self.num_ants):\n",
    "            start = np.random.randint(num_points)  # Randomly choosing a starting point\n",
    "            path = [start]\n",
    "            visited = set([start])\n",
    "            while len(visited) < num_points:\n",
    "                probs = self.calculate_probabilities(path[-1], visited)  # Calculate probabilities of next steps\n",
    "                next_point = np.random.choice(num_points, p=probs)  # Choose the next point based on probabilities\n",
    "                path.append(next_point)\n",
    "                visited.add(next_point)\n",
    "            ants_paths.append(path)\n",
    "        return ants_paths"
   ]
  },
  {
   "cell_type": "markdown",
   "id": "29718a46-974f-44bb-b8fa-d406a87445ef",
   "metadata": {},
   "source": [
    "The algorithm's `generate_ant_paths` function builds paths for several simulated ants. Finding the total number of points (or samples) in the dataset is the first step. The beginning location for every ant (specified by {self.num_ants}) is chosen at random from the list of points. The ant then determines the probability of the subsequent action based on its present position and the points it has already visited, even if it hasn't yet visited every point. \n",
    "\n",
    "The ant uses these probabilities to determine where to move next, with greater probability favoring places that are closer to the algorithm's goals (such as maximizing pheromone trails or minimizing distances). Until every point has been reached and every ant has created a full path, this procedure is repeated. This feature is essential for modeling how ants explore and navigate through potential solutions, contributing to the overall optimization process of finding better paths or clusters in the data.\r\n"
   ]
  },
  {
   "cell_type": "markdown",
   "id": "af32c6b5-be41-4f83-b238-0760c7ab2f7b",
   "metadata": {},
   "source": [
    "##### Calculating Probabilities"
   ]
  },
  {
   "cell_type": "code",
   "execution_count": null,
   "id": "d3e38daa-f83a-473d-b509-282a4de97cb8",
   "metadata": {},
   "outputs": [],
   "source": [
    "def calculate_probabilities(self, current_point, visited):\n",
    "        pheromone = self.pheromone_matrix[current_point]  # Pheromone levels for the current point\n",
    "        dist = self.distance_matrix[current_point]  # Distances from the current point to others\n",
    "        unvisited_prob = np.where(np.isin(np.arange(len(pheromone)), list(visited)), 0, 1)  # Only consider unvisited points\n",
    "        row = pheromone ** self.alpha * (unvisited_prob * (1.0 / (dist + 1e-10)) ** self.beta)  # Calculate probabilities\n",
    "        probabilities = row / np.sum(row)  # Normalize to sum to 1\n",
    "        return probabilities"
   ]
  },
  {
   "cell_type": "markdown",
   "id": "5bf0b3c3-a21f-468c-91eb-2a4bd9b87b2d",
   "metadata": {},
   "source": [
    "##### Distance Calculation in the Context of Ant Colony Optimization (ACO)\r\n",
    "<p align=\"center\">\n",
    "  <img src=\"input/Capture.PNG\" alt=\"Description of the image\" width=\"500\" height=\"300\">\n",
    "</p>\n",
    "\n",
    "\r\n",
    "In your project, `len(self.pvt_data)` gives you the number of data points or entries in your PVT dataset. Each data point represents a specific combination of variables such as pressure, temperature, gas solubility, etc. These variables are crucial for calculating distances between different points in your dataset. This length determines the number of nodes or points that the Ant Colony Optimization (ACO) algorithm navigates when searching for optimal paths or solutions related to GOR estimatio\n",
    "*#*#### Probability Calculation in Ant Colony Optimization (**ACO)\r\n",
    "\r\n",
    "In the Ant Colony Optimization (ACO) algorithm, an ant's probability of moving from its current point to another point primarily depends on two factors: pheromone levels and heuristic val>\r\n",
    "\n",
    "es.\r\n",
    "\r\n",
    "**Pheromone evels:**\r\n",
    "- Pheromones are substances that ants deposit as they move.\r\n",
    "- In ACO, pheromone levels on each path between points are dynamically updated.\r\n",
    "- Ants use pheromone levels to choose paths: higher levels indicate better or more frequently used paths.\r\n",
    "- The probability of choosing a path is influenced by pheromone levels, controlled by a paramete (alpha).\r\n",
    "\r\n",
    "**HeuristicInformation:**\r\n",
    "- Heuristic values guide ants towards shorter paths.\r\n",
    "- They represent additional knowledge, typically inversely related- Ants prioritize paths based on heuristic values compared to pheromone levels, controlled by a parameter (beta).\n",
    " optimization problems.\r\n"
   ]
  },
  {
   "cell_type": "markdown",
   "id": "53593644-b673-45d3-bb06-58ad47431074",
   "metadata": {},
   "source": [
    "##### Choosing the Next Point\n",
    "\n",
    "Once probabilities are calculated for each unvisited neighboring point from the current point, the next point is chosen randomly based on these probabilities. Points with higher probabilities are more likely to be selected, encouraging ants to follow paths with stronger pheromone trails and shorter distances.\n",
    "\n",
    "In summary, the ACO algorithm balances exploiting known paths (high pheromone levels) and exploring potentially shorter paths (low distance heuristic values). This balance allows it to converge towards optimal or near-optimal solutions for complex optimization problems."
   ]
  },
  {
   "cell_type": "markdown",
   "id": "7df48fd8-bd0a-4aa5-894c-cd49a36160db",
   "metadata": {},
   "source": [
    "##### Understanding Data Points in Your Project\n",
    "\n",
    "In this project's context and code, `len(self.pvt_data)` represents the number of data points or entries in your PVT dataset. Each data point encapsulates specific variables like pressure, temperature, gas solubility, and more. These variables are pivotal for computing distances between various points within your dataset. The number of data points dictates the nodes or points that the Ant Colony Optimization (ACO) algorithm will traverse when seeking optimal paths or solutions related to GOR estimation\n",
    "ameter (beta)."
   ]
  },
  {
   "cell_type": "markdown",
   "id": "ddc491d9-7583-42ab-878c-3df362923fa7",
   "metadata": {},
   "source": [
    "##### Updating Pheromones"
   ]
  },
  {
   "cell_type": "code",
   "execution_count": null,
   "id": "c2d07968-0c7f-43b5-bf77-43c593272bf2",
   "metadata": {},
   "outputs": [],
   "source": [
    "def update_pheromone(self, ants_paths):\n",
    "    self.pheromone_matrix *= self.decay  # Apply decay to all pheromone levels\n",
    "    for path in ants_paths:\n",
    "        for i in range(len(path) - 1):\n",
    "            self.pheromone_matrix[path[i], path[i+1]] += 1.0 / self.distance_matrix[path[i], path[i+1]]  # Increase pheromone levels on the path\n"
   ]
  },
  {
   "cell_type": "markdown",
   "id": "42db9391-00c1-4584-b5f1-56f585746f55",
   "metadata": {},
   "source": [
    "Our algorithm's `update_pheromone` function is essential for modifying the pheromone levels on pathways in response to the ants' investigation. It first simulates the gradual evaporation or reduction of pheromones by applying a decay factor ({self.decay}) to all current pheromone levels. By doing this, the algorithm is kept from unduly rewarding paths that were once good but might not be optimal. \n",
    "\n",
    "The ant then iterates through the path steps for each path it has examined ({ants_paths}). The pheromone level on the matrix ({self.pheromone_matrix}) between the current position ({path[i]}) and the following point ({path[i+1]}) is raised with each step. Shorter paths receive greater reinforcement since the quantity added is inversely proportional to the distance between these places ({self.distance_matrix[path[i], path[i+1]]}). \n",
    "\n",
    "This procedure improves pathways with higher pheromone concentrations, guiding subsequent ants to explore potentially more optimal paths as the algorithm progresses. Thus, the function dynamically adjusts pheromone levels to reflect the exploration outcomes, facilitating the convergence towards optimal solutions over successive iterations."
   ]
  },
  {
   "cell_type": "code",
   "execution_count": null,
   "id": "91a83797-475f-4a27-a94e-6ceec2e242e2",
   "metadata": {},
   "outputs": [],
   "source": [
    "def get_shortest_path(self, ants_paths):\n",
    "    shortest_cost = np.inf\n",
    "    shortest_path = None\n",
    "    for path in ants_paths:\n",
    "        path_cost = self.calculate_path_cost(path)  # Calculate the cost of the path\n",
    "        if path_cost < shortest_cost:\n",
    "            shortest_cost = path_cost\n",
    "            shortest_path = path\n",
    "    return shortest_path, shortest_cost"
   ]
  },
  {
   "cell_type": "markdown",
   "id": "4244a6c1-ab8e-4552-973a-ce502df1700a",
   "metadata": {},
   "source": [
    "#### Recognizing \"Cost\" and \"Path\" in Our Solution\r\n",
    "\r\n",
    "**Path**: An ant's path in our algorithm is the series of points it passes through. In our PVT data, each point denotes a distinct data entry that is identified by its bubble point pressure. The ant's visitation order at these places is essentially its journey.\r\n",
    "\r\n",
    "**Cost**: The \"good\" or \"efficient\" nature of a path is determined by its cost. In this instance, the cost is computed using the paths' successive point distances. The better the path, the lower the cost. The difference in bubble point pressures between the sites is used to calculate the distance in this case.\r\n",
    "se."
   ]
  },
  {
   "cell_type": "markdown",
   "id": "6879b21c-86ca-4114-9e8f-d4d90b96f5f3",
   "metadata": {},
   "source": [
    "#### Put Simply:\r\n",
    "\r\n",
    "**Path**: An ant's visitation of a series of data points, each of which is identified by its bubble point pressure.\r\n",
    "\r\n",
    "**Cost**: The overall distance covered by the ant on this path, calculated from the variations in bubble point pressures at each location. A less expensive route is also quicker and more effective.\r\n",
    " path."
   ]
  },
  {
   "cell_type": "markdown",
   "id": "4ec100f9-030f-4da5-8892-2c96970791e3",
   "metadata": {},
   "source": [
    "#### How to use get_shortest_path Functions in Our Situation\n",
    "\n",
    "**First Configuration:** presuming that the shortest path has an infinite cost, we begin by presuming that its identity is unknown.\n",
    "Analyze Every Route: We examine every route that the ants have taken.\n",
    "\n",
    "**Compute Cost:** Depending on the variations in bubble point pressures between successive places, we compute the total distance (or cost) the ant travels along each path.\n"
   ]
  },
  {
   "cell_type": "code",
   "execution_count": null,
   "id": "0b0f4432-b2fb-45e2-8f0e-f621851639ef",
   "metadata": {},
   "outputs": [],
   "source": []
  }
 ],
 "metadata": {
  "kernelspec": {
   "display_name": "Python 3 (ipykernel)",
   "language": "python",
   "name": "python3"
  },
  "language_info": {
   "codemirror_mode": {
    "name": "ipython",
    "version": 3
   },
   "file_extension": ".py",
   "mimetype": "text/x-python",
   "name": "python",
   "nbconvert_exporter": "python",
   "pygments_lexer": "ipython3",
   "version": "3.12.4"
  }
 },
 "nbformat": 4,
 "nbformat_minor": 5
}
