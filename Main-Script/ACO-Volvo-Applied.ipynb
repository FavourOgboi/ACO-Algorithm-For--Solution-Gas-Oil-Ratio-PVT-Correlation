{
 "cells": [
  {
   "cell_type": "code",
   "execution_count": 21,
   "id": "3b869008-aa0d-44eb-822d-adc1fd5c5f45",
   "metadata": {},
   "outputs": [
    {
     "data": {
      "text/html": [
       "<div>\n",
       "<style scoped>\n",
       "    .dataframe tbody tr th:only-of-type {\n",
       "        vertical-align: middle;\n",
       "    }\n",
       "\n",
       "    .dataframe tbody tr th {\n",
       "        vertical-align: top;\n",
       "    }\n",
       "\n",
       "    .dataframe thead th {\n",
       "        text-align: right;\n",
       "    }\n",
       "</style>\n",
       "<table border=\"1\" class=\"dataframe\">\n",
       "  <thead>\n",
       "    <tr style=\"text-align: right;\">\n",
       "      <th></th>\n",
       "      <th>Date of Production</th>\n",
       "      <th>Wellbore name</th>\n",
       "      <th>ON_STREAM_HRS</th>\n",
       "      <th>AVG_DOWNHOLE_PRESSURE</th>\n",
       "      <th>AVG_DOWNHOLE_TEMPERATURE</th>\n",
       "      <th>AVG_DP_TUBING</th>\n",
       "      <th>AVG_ANNULUS_PRESS</th>\n",
       "      <th>AVG_CHOKE_SIZE_P</th>\n",
       "      <th>AVG_WHP_P</th>\n",
       "      <th>AVG_WHT_P</th>\n",
       "      <th>DP_CHOKE_SIZE</th>\n",
       "      <th>BORE_OIL_VOL</th>\n",
       "      <th>BORE_GAS_VOL</th>\n",
       "      <th>BORE_WAT_VOL</th>\n",
       "      <th>FLOW_KIND</th>\n",
       "      <th>WELL_TYPE</th>\n",
       "      <th>Calculated_GOR</th>\n",
       "    </tr>\n",
       "  </thead>\n",
       "  <tbody>\n",
       "    <tr>\n",
       "      <th>829</th>\n",
       "      <td>2015-12-23</td>\n",
       "      <td>15/9-F-11 H</td>\n",
       "      <td>24.0</td>\n",
       "      <td>221.532</td>\n",
       "      <td>105.95</td>\n",
       "      <td>191.174</td>\n",
       "      <td>10.406</td>\n",
       "      <td>97.91667</td>\n",
       "      <td>30.358</td>\n",
       "      <td>77.258</td>\n",
       "      <td>4.339</td>\n",
       "      <td>1136.0</td>\n",
       "      <td>174004.0</td>\n",
       "      <td>2038.0</td>\n",
       "      <td>production</td>\n",
       "      <td>OP</td>\n",
       "      <td>153.172535</td>\n",
       "    </tr>\n",
       "  </tbody>\n",
       "</table>\n",
       "</div>"
      ],
      "text/plain": [
       "    Date of Production Wellbore name  ON_STREAM_HRS  AVG_DOWNHOLE_PRESSURE  \\\n",
       "829         2015-12-23   15/9-F-11 H           24.0                221.532   \n",
       "\n",
       "     AVG_DOWNHOLE_TEMPERATURE  AVG_DP_TUBING  AVG_ANNULUS_PRESS  \\\n",
       "829                    105.95        191.174             10.406   \n",
       "\n",
       "     AVG_CHOKE_SIZE_P  AVG_WHP_P  AVG_WHT_P  DP_CHOKE_SIZE  BORE_OIL_VOL  \\\n",
       "829          97.91667     30.358     77.258          4.339        1136.0   \n",
       "\n",
       "     BORE_GAS_VOL  BORE_WAT_VOL   FLOW_KIND WELL_TYPE  Calculated_GOR  \n",
       "829      174004.0        2038.0  production        OP      153.172535  "
      ]
     },
     "execution_count": 21,
     "metadata": {},
     "output_type": "execute_result"
    }
   ],
   "source": [
    "import numpy as np\n",
    "import pandas as pd\n",
    "import matplotlib.pyplot as plt\n",
    "from tqdm import tqdm\n",
    "\n",
    "# Load the data from CSV\n",
    "pvt_data_df = pd.read_csv(\"../pvt_Data/cleaned_production_data.csv\")\n",
    "\n",
    "# Sample 50 rows from the DataFrame\n",
    "sampled_data = pvt_data_df.sample(n=100, random_state=1)\n",
    "\n",
    "sampled_data.sample()"
   ]
  },
  {
   "cell_type": "code",
   "execution_count": 19,
   "id": "2a9e134e-99fc-40b7-80a6-34c00fb9b264",
   "metadata": {},
   "outputs": [
    {
     "name": "stderr",
     "output_type": "stream",
     "text": [
      "ACO Progress:   1%|          | 1/100 [00:00<01:21,  1.21it/s]"
     ]
    },
    {
     "name": "stdout",
     "output_type": "stream",
     "text": [
      "Iteration 1/100: Shortest Cost = 2067.98\n"
     ]
    },
    {
     "name": "stderr",
     "output_type": "stream",
     "text": [
      "ACO Progress:   2%|▏         | 2/100 [00:01<01:30,  1.09it/s]"
     ]
    },
    {
     "name": "stdout",
     "output_type": "stream",
     "text": [
      "Iteration 2/100: Shortest Cost = 1743.00\n"
     ]
    },
    {
     "name": "stderr",
     "output_type": "stream",
     "text": [
      "ACO Progress:   3%|▎         | 3/100 [00:02<01:30,  1.07it/s]"
     ]
    },
    {
     "name": "stdout",
     "output_type": "stream",
     "text": [
      "Iteration 3/100: Shortest Cost = 1601.41\n"
     ]
    },
    {
     "name": "stderr",
     "output_type": "stream",
     "text": [
      "ACO Progress:   4%|▍         | 4/100 [00:03<01:21,  1.17it/s]"
     ]
    },
    {
     "name": "stdout",
     "output_type": "stream",
     "text": [
      "Iteration 4/100: Shortest Cost = 1548.69\n"
     ]
    },
    {
     "name": "stderr",
     "output_type": "stream",
     "text": [
      "ACO Progress:   5%|▌         | 5/100 [00:04<01:14,  1.28it/s]"
     ]
    },
    {
     "name": "stdout",
     "output_type": "stream",
     "text": [
      "Iteration 5/100: Shortest Cost = 1520.28\n"
     ]
    },
    {
     "name": "stderr",
     "output_type": "stream",
     "text": [
      "ACO Progress:   6%|▌         | 6/100 [00:04<01:10,  1.33it/s]"
     ]
    },
    {
     "name": "stdout",
     "output_type": "stream",
     "text": [
      "Iteration 6/100: Shortest Cost = 1515.57\n"
     ]
    },
    {
     "name": "stderr",
     "output_type": "stream",
     "text": [
      "ACO Progress:   7%|▋         | 7/100 [00:05<01:15,  1.24it/s]"
     ]
    },
    {
     "name": "stdout",
     "output_type": "stream",
     "text": [
      "Iteration 7/100: Shortest Cost = 1383.70\n"
     ]
    },
    {
     "name": "stderr",
     "output_type": "stream",
     "text": [
      "ACO Progress:   8%|▊         | 8/100 [00:06<01:22,  1.12it/s]"
     ]
    },
    {
     "name": "stdout",
     "output_type": "stream",
     "text": [
      "Iteration 8/100: Shortest Cost = 1383.70\n"
     ]
    },
    {
     "name": "stderr",
     "output_type": "stream",
     "text": [
      "ACO Progress:   9%|▉         | 9/100 [00:07<01:22,  1.11it/s]"
     ]
    },
    {
     "name": "stdout",
     "output_type": "stream",
     "text": [
      "Iteration 9/100: Shortest Cost = 1365.36\n"
     ]
    },
    {
     "name": "stderr",
     "output_type": "stream",
     "text": [
      "ACO Progress:  10%|█         | 10/100 [00:08<01:15,  1.19it/s]"
     ]
    },
    {
     "name": "stdout",
     "output_type": "stream",
     "text": [
      "Iteration 10/100: Shortest Cost = 1365.36\n"
     ]
    },
    {
     "name": "stderr",
     "output_type": "stream",
     "text": [
      "ACO Progress:  11%|█         | 11/100 [00:08<01:05,  1.35it/s]"
     ]
    },
    {
     "name": "stdout",
     "output_type": "stream",
     "text": [
      "Iteration 11/100: Shortest Cost = 1365.36\n"
     ]
    },
    {
     "name": "stderr",
     "output_type": "stream",
     "text": [
      "ACO Progress:  12%|█▏        | 12/100 [00:09<01:01,  1.44it/s]"
     ]
    },
    {
     "name": "stdout",
     "output_type": "stream",
     "text": [
      "Iteration 12/100: Shortest Cost = 1326.63\n"
     ]
    },
    {
     "name": "stderr",
     "output_type": "stream",
     "text": [
      "ACO Progress:  13%|█▎        | 13/100 [00:10<01:01,  1.41it/s]"
     ]
    },
    {
     "name": "stdout",
     "output_type": "stream",
     "text": [
      "Iteration 13/100: Shortest Cost = 1326.63\n"
     ]
    },
    {
     "name": "stderr",
     "output_type": "stream",
     "text": [
      "ACO Progress:  14%|█▍        | 14/100 [00:11<01:04,  1.34it/s]"
     ]
    },
    {
     "name": "stdout",
     "output_type": "stream",
     "text": [
      "Iteration 14/100: Shortest Cost = 1326.63\n"
     ]
    },
    {
     "name": "stderr",
     "output_type": "stream",
     "text": [
      "ACO Progress:  15%|█▌        | 15/100 [00:11<01:04,  1.31it/s]"
     ]
    },
    {
     "name": "stdout",
     "output_type": "stream",
     "text": [
      "Iteration 15/100: Shortest Cost = 1326.63\n"
     ]
    },
    {
     "name": "stderr",
     "output_type": "stream",
     "text": [
      "ACO Progress:  16%|█▌        | 16/100 [00:12<01:06,  1.26it/s]"
     ]
    },
    {
     "name": "stdout",
     "output_type": "stream",
     "text": [
      "Iteration 16/100: Shortest Cost = 1326.63\n"
     ]
    },
    {
     "name": "stderr",
     "output_type": "stream",
     "text": [
      "ACO Progress:  17%|█▋        | 17/100 [00:13<01:02,  1.32it/s]"
     ]
    },
    {
     "name": "stdout",
     "output_type": "stream",
     "text": [
      "Iteration 17/100: Shortest Cost = 1326.63\n"
     ]
    },
    {
     "name": "stderr",
     "output_type": "stream",
     "text": [
      "ACO Progress:  18%|█▊        | 18/100 [00:14<01:04,  1.28it/s]"
     ]
    },
    {
     "name": "stdout",
     "output_type": "stream",
     "text": [
      "Iteration 18/100: Shortest Cost = 1326.63\n"
     ]
    },
    {
     "name": "stderr",
     "output_type": "stream",
     "text": [
      "ACO Progress:  19%|█▉        | 19/100 [00:14<01:00,  1.34it/s]"
     ]
    },
    {
     "name": "stdout",
     "output_type": "stream",
     "text": [
      "Iteration 19/100: Shortest Cost = 1326.63\n"
     ]
    },
    {
     "name": "stderr",
     "output_type": "stream",
     "text": [
      "ACO Progress:  20%|██        | 20/100 [00:15<00:57,  1.38it/s]"
     ]
    },
    {
     "name": "stdout",
     "output_type": "stream",
     "text": [
      "Iteration 20/100: Shortest Cost = 1326.63\n"
     ]
    },
    {
     "name": "stderr",
     "output_type": "stream",
     "text": [
      "ACO Progress:  21%|██        | 21/100 [00:16<00:55,  1.43it/s]"
     ]
    },
    {
     "name": "stdout",
     "output_type": "stream",
     "text": [
      "Iteration 21/100: Shortest Cost = 1284.26\n"
     ]
    },
    {
     "name": "stderr",
     "output_type": "stream",
     "text": [
      "ACO Progress:  22%|██▏       | 22/100 [00:16<00:46,  1.67it/s]"
     ]
    },
    {
     "name": "stdout",
     "output_type": "stream",
     "text": [
      "Iteration 22/100: Shortest Cost = 1284.26\n"
     ]
    },
    {
     "name": "stderr",
     "output_type": "stream",
     "text": [
      "ACO Progress:  23%|██▎       | 23/100 [00:16<00:38,  2.01it/s]"
     ]
    },
    {
     "name": "stdout",
     "output_type": "stream",
     "text": [
      "Iteration 23/100: Shortest Cost = 1284.26\n"
     ]
    },
    {
     "name": "stderr",
     "output_type": "stream",
     "text": [
      "ACO Progress:  24%|██▍       | 24/100 [00:17<00:34,  2.22it/s]"
     ]
    },
    {
     "name": "stdout",
     "output_type": "stream",
     "text": [
      "Iteration 24/100: Shortest Cost = 1284.26\n"
     ]
    },
    {
     "name": "stderr",
     "output_type": "stream",
     "text": [
      "ACO Progress:  25%|██▌       | 25/100 [00:17<00:35,  2.13it/s]"
     ]
    },
    {
     "name": "stdout",
     "output_type": "stream",
     "text": [
      "Iteration 25/100: Shortest Cost = 1284.26\n"
     ]
    },
    {
     "name": "stderr",
     "output_type": "stream",
     "text": [
      "ACO Progress:  26%|██▌       | 26/100 [00:18<00:32,  2.29it/s]"
     ]
    },
    {
     "name": "stdout",
     "output_type": "stream",
     "text": [
      "Iteration 26/100: Shortest Cost = 1284.26\n"
     ]
    },
    {
     "name": "stderr",
     "output_type": "stream",
     "text": [
      "ACO Progress:  27%|██▋       | 27/100 [00:18<00:27,  2.67it/s]"
     ]
    },
    {
     "name": "stdout",
     "output_type": "stream",
     "text": [
      "Iteration 27/100: Shortest Cost = 1263.54\n"
     ]
    },
    {
     "name": "stderr",
     "output_type": "stream",
     "text": [
      "ACO Progress:  28%|██▊       | 28/100 [00:18<00:28,  2.56it/s]"
     ]
    },
    {
     "name": "stdout",
     "output_type": "stream",
     "text": [
      "Iteration 28/100: Shortest Cost = 1263.54\n"
     ]
    },
    {
     "name": "stderr",
     "output_type": "stream",
     "text": [
      "ACO Progress:  29%|██▉       | 29/100 [00:19<00:25,  2.78it/s]"
     ]
    },
    {
     "name": "stdout",
     "output_type": "stream",
     "text": [
      "Iteration 29/100: Shortest Cost = 1263.54\n"
     ]
    },
    {
     "name": "stderr",
     "output_type": "stream",
     "text": [
      "ACO Progress:  30%|███       | 30/100 [00:20<00:40,  1.75it/s]"
     ]
    },
    {
     "name": "stdout",
     "output_type": "stream",
     "text": [
      "Iteration 30/100: Shortest Cost = 1263.54\n"
     ]
    },
    {
     "name": "stderr",
     "output_type": "stream",
     "text": [
      "ACO Progress:  31%|███       | 31/100 [00:20<00:43,  1.57it/s]"
     ]
    },
    {
     "name": "stdout",
     "output_type": "stream",
     "text": [
      "Iteration 31/100: Shortest Cost = 1263.54\n"
     ]
    },
    {
     "name": "stderr",
     "output_type": "stream",
     "text": [
      "ACO Progress:  32%|███▏      | 32/100 [00:21<00:47,  1.44it/s]"
     ]
    },
    {
     "name": "stdout",
     "output_type": "stream",
     "text": [
      "Iteration 32/100: Shortest Cost = 1236.39\n"
     ]
    },
    {
     "name": "stderr",
     "output_type": "stream",
     "text": [
      "ACO Progress:  33%|███▎      | 33/100 [00:22<00:46,  1.45it/s]"
     ]
    },
    {
     "name": "stdout",
     "output_type": "stream",
     "text": [
      "Iteration 33/100: Shortest Cost = 1236.39\n"
     ]
    },
    {
     "name": "stderr",
     "output_type": "stream",
     "text": [
      "ACO Progress:  34%|███▍      | 34/100 [00:23<00:50,  1.31it/s]"
     ]
    },
    {
     "name": "stdout",
     "output_type": "stream",
     "text": [
      "Iteration 34/100: Shortest Cost = 1236.39\n"
     ]
    },
    {
     "name": "stderr",
     "output_type": "stream",
     "text": [
      "ACO Progress:  35%|███▌      | 35/100 [00:24<00:49,  1.31it/s]"
     ]
    },
    {
     "name": "stdout",
     "output_type": "stream",
     "text": [
      "Iteration 35/100: Shortest Cost = 1236.39\n"
     ]
    },
    {
     "name": "stderr",
     "output_type": "stream",
     "text": [
      "ACO Progress:  36%|███▌      | 36/100 [00:24<00:48,  1.32it/s]"
     ]
    },
    {
     "name": "stdout",
     "output_type": "stream",
     "text": [
      "Iteration 36/100: Shortest Cost = 1208.53\n"
     ]
    },
    {
     "name": "stderr",
     "output_type": "stream",
     "text": [
      "ACO Progress:  37%|███▋      | 37/100 [00:25<00:48,  1.31it/s]"
     ]
    },
    {
     "name": "stdout",
     "output_type": "stream",
     "text": [
      "Iteration 37/100: Shortest Cost = 1208.53\n"
     ]
    },
    {
     "name": "stderr",
     "output_type": "stream",
     "text": [
      "ACO Progress:  38%|███▊      | 38/100 [00:26<00:43,  1.43it/s]"
     ]
    },
    {
     "name": "stdout",
     "output_type": "stream",
     "text": [
      "Iteration 38/100: Shortest Cost = 1208.53\n"
     ]
    },
    {
     "name": "stderr",
     "output_type": "stream",
     "text": [
      "ACO Progress:  39%|███▉      | 39/100 [00:26<00:40,  1.49it/s]"
     ]
    },
    {
     "name": "stdout",
     "output_type": "stream",
     "text": [
      "Iteration 39/100: Shortest Cost = 1208.53\n"
     ]
    },
    {
     "name": "stderr",
     "output_type": "stream",
     "text": [
      "ACO Progress:  40%|████      | 40/100 [00:27<00:38,  1.56it/s]"
     ]
    },
    {
     "name": "stdout",
     "output_type": "stream",
     "text": [
      "Iteration 40/100: Shortest Cost = 1208.53\n"
     ]
    },
    {
     "name": "stderr",
     "output_type": "stream",
     "text": [
      "ACO Progress:  41%|████      | 41/100 [00:27<00:37,  1.59it/s]"
     ]
    },
    {
     "name": "stdout",
     "output_type": "stream",
     "text": [
      "Iteration 41/100: Shortest Cost = 1208.53\n"
     ]
    },
    {
     "name": "stderr",
     "output_type": "stream",
     "text": [
      "ACO Progress:  42%|████▏     | 42/100 [00:28<00:36,  1.58it/s]"
     ]
    },
    {
     "name": "stdout",
     "output_type": "stream",
     "text": [
      "Iteration 42/100: Shortest Cost = 1208.53\n"
     ]
    },
    {
     "name": "stderr",
     "output_type": "stream",
     "text": [
      "ACO Progress:  43%|████▎     | 43/100 [00:29<00:36,  1.58it/s]"
     ]
    },
    {
     "name": "stdout",
     "output_type": "stream",
     "text": [
      "Iteration 43/100: Shortest Cost = 1208.53\n"
     ]
    },
    {
     "name": "stderr",
     "output_type": "stream",
     "text": [
      "ACO Progress:  44%|████▍     | 44/100 [00:30<00:46,  1.19it/s]"
     ]
    },
    {
     "name": "stdout",
     "output_type": "stream",
     "text": [
      "Iteration 44/100: Shortest Cost = 1208.53\n"
     ]
    },
    {
     "name": "stderr",
     "output_type": "stream",
     "text": [
      "ACO Progress:  45%|████▌     | 45/100 [00:31<00:50,  1.10it/s]"
     ]
    },
    {
     "name": "stdout",
     "output_type": "stream",
     "text": [
      "Iteration 45/100: Shortest Cost = 1208.53\n"
     ]
    },
    {
     "name": "stderr",
     "output_type": "stream",
     "text": [
      "ACO Progress:  46%|████▌     | 46/100 [00:32<00:54,  1.01s/it]"
     ]
    },
    {
     "name": "stdout",
     "output_type": "stream",
     "text": [
      "Iteration 46/100: Shortest Cost = 1208.53\n"
     ]
    },
    {
     "name": "stderr",
     "output_type": "stream",
     "text": [
      "ACO Progress:  47%|████▋     | 47/100 [00:33<00:53,  1.00s/it]"
     ]
    },
    {
     "name": "stdout",
     "output_type": "stream",
     "text": [
      "Iteration 47/100: Shortest Cost = 1208.53\n"
     ]
    },
    {
     "name": "stderr",
     "output_type": "stream",
     "text": [
      "ACO Progress:  48%|████▊     | 48/100 [00:34<00:50,  1.04it/s]"
     ]
    },
    {
     "name": "stdout",
     "output_type": "stream",
     "text": [
      "Iteration 48/100: Shortest Cost = 1208.53\n"
     ]
    },
    {
     "name": "stderr",
     "output_type": "stream",
     "text": [
      "ACO Progress:  49%|████▉     | 49/100 [00:35<00:46,  1.11it/s]"
     ]
    },
    {
     "name": "stdout",
     "output_type": "stream",
     "text": [
      "Iteration 49/100: Shortest Cost = 1208.53\n"
     ]
    },
    {
     "name": "stderr",
     "output_type": "stream",
     "text": [
      "ACO Progress:  50%|█████     | 50/100 [00:36<00:43,  1.16it/s]"
     ]
    },
    {
     "name": "stdout",
     "output_type": "stream",
     "text": [
      "Iteration 50/100: Shortest Cost = 1208.53\n"
     ]
    },
    {
     "name": "stderr",
     "output_type": "stream",
     "text": [
      "ACO Progress:  51%|█████     | 51/100 [00:36<00:39,  1.23it/s]"
     ]
    },
    {
     "name": "stdout",
     "output_type": "stream",
     "text": [
      "Iteration 51/100: Shortest Cost = 1208.53\n"
     ]
    },
    {
     "name": "stderr",
     "output_type": "stream",
     "text": [
      "ACO Progress:  52%|█████▏    | 52/100 [00:37<00:39,  1.21it/s]"
     ]
    },
    {
     "name": "stdout",
     "output_type": "stream",
     "text": [
      "Iteration 52/100: Shortest Cost = 1208.53\n"
     ]
    },
    {
     "name": "stderr",
     "output_type": "stream",
     "text": [
      "ACO Progress:  53%|█████▎    | 53/100 [00:38<00:40,  1.16it/s]"
     ]
    },
    {
     "name": "stdout",
     "output_type": "stream",
     "text": [
      "Iteration 53/100: Shortest Cost = 1208.53\n"
     ]
    },
    {
     "name": "stderr",
     "output_type": "stream",
     "text": [
      "ACO Progress:  54%|█████▍    | 54/100 [00:39<00:40,  1.14it/s]"
     ]
    },
    {
     "name": "stdout",
     "output_type": "stream",
     "text": [
      "Iteration 54/100: Shortest Cost = 1208.53\n"
     ]
    },
    {
     "name": "stderr",
     "output_type": "stream",
     "text": [
      "ACO Progress:  55%|█████▌    | 55/100 [00:40<00:44,  1.02it/s]"
     ]
    },
    {
     "name": "stdout",
     "output_type": "stream",
     "text": [
      "Iteration 55/100: Shortest Cost = 1208.53\n"
     ]
    },
    {
     "name": "stderr",
     "output_type": "stream",
     "text": [
      "ACO Progress:  56%|█████▌    | 56/100 [00:41<00:43,  1.01it/s]"
     ]
    },
    {
     "name": "stdout",
     "output_type": "stream",
     "text": [
      "Iteration 56/100: Shortest Cost = 1208.53\n"
     ]
    },
    {
     "name": "stderr",
     "output_type": "stream",
     "text": [
      "ACO Progress:  57%|█████▋    | 57/100 [00:42<00:42,  1.01it/s]"
     ]
    },
    {
     "name": "stdout",
     "output_type": "stream",
     "text": [
      "Iteration 57/100: Shortest Cost = 1208.53\n"
     ]
    },
    {
     "name": "stderr",
     "output_type": "stream",
     "text": [
      "ACO Progress:  58%|█████▊    | 58/100 [00:43<00:40,  1.05it/s]"
     ]
    },
    {
     "name": "stdout",
     "output_type": "stream",
     "text": [
      "Iteration 58/100: Shortest Cost = 1208.53\n"
     ]
    },
    {
     "name": "stderr",
     "output_type": "stream",
     "text": [
      "ACO Progress:  59%|█████▉    | 59/100 [00:44<00:36,  1.12it/s]"
     ]
    },
    {
     "name": "stdout",
     "output_type": "stream",
     "text": [
      "Iteration 59/100: Shortest Cost = 1208.53\n"
     ]
    },
    {
     "name": "stderr",
     "output_type": "stream",
     "text": [
      "ACO Progress:  60%|██████    | 60/100 [00:45<00:33,  1.20it/s]"
     ]
    },
    {
     "name": "stdout",
     "output_type": "stream",
     "text": [
      "Iteration 60/100: Shortest Cost = 1208.53\n"
     ]
    },
    {
     "name": "stderr",
     "output_type": "stream",
     "text": [
      "ACO Progress:  61%|██████    | 61/100 [00:46<00:31,  1.23it/s]"
     ]
    },
    {
     "name": "stdout",
     "output_type": "stream",
     "text": [
      "Iteration 61/100: Shortest Cost = 1208.53\n"
     ]
    },
    {
     "name": "stderr",
     "output_type": "stream",
     "text": [
      "ACO Progress:  62%|██████▏   | 62/100 [00:46<00:30,  1.25it/s]"
     ]
    },
    {
     "name": "stdout",
     "output_type": "stream",
     "text": [
      "Iteration 62/100: Shortest Cost = 1208.53\n"
     ]
    },
    {
     "name": "stderr",
     "output_type": "stream",
     "text": [
      "ACO Progress:  63%|██████▎   | 63/100 [00:47<00:32,  1.15it/s]"
     ]
    },
    {
     "name": "stdout",
     "output_type": "stream",
     "text": [
      "Iteration 63/100: Shortest Cost = 1208.53\n"
     ]
    },
    {
     "name": "stderr",
     "output_type": "stream",
     "text": [
      "ACO Progress:  64%|██████▍   | 64/100 [00:48<00:31,  1.13it/s]"
     ]
    },
    {
     "name": "stdout",
     "output_type": "stream",
     "text": [
      "Iteration 64/100: Shortest Cost = 1208.53\n"
     ]
    },
    {
     "name": "stderr",
     "output_type": "stream",
     "text": [
      "ACO Progress:  65%|██████▌   | 65/100 [00:49<00:30,  1.17it/s]"
     ]
    },
    {
     "name": "stdout",
     "output_type": "stream",
     "text": [
      "Iteration 65/100: Shortest Cost = 1208.53\n"
     ]
    },
    {
     "name": "stderr",
     "output_type": "stream",
     "text": [
      "ACO Progress:  66%|██████▌   | 66/100 [00:50<00:30,  1.11it/s]"
     ]
    },
    {
     "name": "stdout",
     "output_type": "stream",
     "text": [
      "Iteration 66/100: Shortest Cost = 1208.53\n"
     ]
    },
    {
     "name": "stderr",
     "output_type": "stream",
     "text": [
      "ACO Progress:  67%|██████▋   | 67/100 [00:51<00:29,  1.10it/s]"
     ]
    },
    {
     "name": "stdout",
     "output_type": "stream",
     "text": [
      "Iteration 67/100: Shortest Cost = 1208.53\n"
     ]
    },
    {
     "name": "stderr",
     "output_type": "stream",
     "text": [
      "ACO Progress:  68%|██████▊   | 68/100 [00:52<00:27,  1.18it/s]"
     ]
    },
    {
     "name": "stdout",
     "output_type": "stream",
     "text": [
      "Iteration 68/100: Shortest Cost = 1208.53\n"
     ]
    },
    {
     "name": "stderr",
     "output_type": "stream",
     "text": [
      "ACO Progress:  69%|██████▉   | 69/100 [00:53<00:29,  1.05it/s]"
     ]
    },
    {
     "name": "stdout",
     "output_type": "stream",
     "text": [
      "Iteration 69/100: Shortest Cost = 1208.53\n"
     ]
    },
    {
     "name": "stderr",
     "output_type": "stream",
     "text": [
      "ACO Progress:  70%|███████   | 70/100 [00:54<00:28,  1.05it/s]"
     ]
    },
    {
     "name": "stdout",
     "output_type": "stream",
     "text": [
      "Iteration 70/100: Shortest Cost = 1208.53\n"
     ]
    },
    {
     "name": "stderr",
     "output_type": "stream",
     "text": [
      "ACO Progress:  71%|███████   | 71/100 [00:55<00:28,  1.03it/s]"
     ]
    },
    {
     "name": "stdout",
     "output_type": "stream",
     "text": [
      "Iteration 71/100: Shortest Cost = 1208.53\n"
     ]
    },
    {
     "name": "stderr",
     "output_type": "stream",
     "text": [
      "ACO Progress:  72%|███████▏  | 72/100 [00:56<00:24,  1.12it/s]"
     ]
    },
    {
     "name": "stdout",
     "output_type": "stream",
     "text": [
      "Iteration 72/100: Shortest Cost = 1208.53\n"
     ]
    },
    {
     "name": "stderr",
     "output_type": "stream",
     "text": [
      "ACO Progress:  73%|███████▎  | 73/100 [00:56<00:23,  1.17it/s]"
     ]
    },
    {
     "name": "stdout",
     "output_type": "stream",
     "text": [
      "Iteration 73/100: Shortest Cost = 1208.53\n"
     ]
    },
    {
     "name": "stderr",
     "output_type": "stream",
     "text": [
      "ACO Progress:  74%|███████▍  | 74/100 [00:57<00:21,  1.19it/s]"
     ]
    },
    {
     "name": "stdout",
     "output_type": "stream",
     "text": [
      "Iteration 74/100: Shortest Cost = 1208.53\n"
     ]
    },
    {
     "name": "stderr",
     "output_type": "stream",
     "text": [
      "ACO Progress:  75%|███████▌  | 75/100 [00:58<00:20,  1.20it/s]"
     ]
    },
    {
     "name": "stdout",
     "output_type": "stream",
     "text": [
      "Iteration 75/100: Shortest Cost = 1208.53\n"
     ]
    },
    {
     "name": "stderr",
     "output_type": "stream",
     "text": [
      "ACO Progress:  76%|███████▌  | 76/100 [00:59<00:18,  1.29it/s]"
     ]
    },
    {
     "name": "stdout",
     "output_type": "stream",
     "text": [
      "Iteration 76/100: Shortest Cost = 1208.53\n"
     ]
    },
    {
     "name": "stderr",
     "output_type": "stream",
     "text": [
      "ACO Progress:  77%|███████▋  | 77/100 [00:59<00:16,  1.39it/s]"
     ]
    },
    {
     "name": "stdout",
     "output_type": "stream",
     "text": [
      "Iteration 77/100: Shortest Cost = 1208.53\n"
     ]
    },
    {
     "name": "stderr",
     "output_type": "stream",
     "text": [
      "ACO Progress:  78%|███████▊  | 78/100 [01:00<00:13,  1.57it/s]"
     ]
    },
    {
     "name": "stdout",
     "output_type": "stream",
     "text": [
      "Iteration 78/100: Shortest Cost = 1208.53\n"
     ]
    },
    {
     "name": "stderr",
     "output_type": "stream",
     "text": [
      "ACO Progress:  79%|███████▉  | 79/100 [01:00<00:13,  1.54it/s]"
     ]
    },
    {
     "name": "stdout",
     "output_type": "stream",
     "text": [
      "Iteration 79/100: Shortest Cost = 1208.53\n"
     ]
    },
    {
     "name": "stderr",
     "output_type": "stream",
     "text": [
      "ACO Progress:  80%|████████  | 80/100 [01:01<00:12,  1.55it/s]"
     ]
    },
    {
     "name": "stdout",
     "output_type": "stream",
     "text": [
      "Iteration 80/100: Shortest Cost = 1208.53\n"
     ]
    },
    {
     "name": "stderr",
     "output_type": "stream",
     "text": [
      "ACO Progress:  81%|████████  | 81/100 [01:02<00:12,  1.50it/s]"
     ]
    },
    {
     "name": "stdout",
     "output_type": "stream",
     "text": [
      "Iteration 81/100: Shortest Cost = 1208.53\n"
     ]
    },
    {
     "name": "stderr",
     "output_type": "stream",
     "text": [
      "ACO Progress:  82%|████████▏ | 82/100 [01:02<00:12,  1.45it/s]"
     ]
    },
    {
     "name": "stdout",
     "output_type": "stream",
     "text": [
      "Iteration 82/100: Shortest Cost = 1208.53\n"
     ]
    },
    {
     "name": "stderr",
     "output_type": "stream",
     "text": [
      "ACO Progress:  83%|████████▎ | 83/100 [01:03<00:12,  1.37it/s]"
     ]
    },
    {
     "name": "stdout",
     "output_type": "stream",
     "text": [
      "Iteration 83/100: Shortest Cost = 1208.53\n"
     ]
    },
    {
     "name": "stderr",
     "output_type": "stream",
     "text": [
      "ACO Progress:  84%|████████▍ | 84/100 [01:04<00:12,  1.33it/s]"
     ]
    },
    {
     "name": "stdout",
     "output_type": "stream",
     "text": [
      "Iteration 84/100: Shortest Cost = 1206.49\n"
     ]
    },
    {
     "name": "stderr",
     "output_type": "stream",
     "text": [
      "ACO Progress:  85%|████████▌ | 85/100 [01:05<00:11,  1.34it/s]"
     ]
    },
    {
     "name": "stdout",
     "output_type": "stream",
     "text": [
      "Iteration 85/100: Shortest Cost = 1206.49\n"
     ]
    },
    {
     "name": "stderr",
     "output_type": "stream",
     "text": [
      "ACO Progress:  86%|████████▌ | 86/100 [01:06<00:11,  1.24it/s]"
     ]
    },
    {
     "name": "stdout",
     "output_type": "stream",
     "text": [
      "Iteration 86/100: Shortest Cost = 1206.49\n"
     ]
    },
    {
     "name": "stderr",
     "output_type": "stream",
     "text": [
      "ACO Progress:  87%|████████▋ | 87/100 [01:07<00:11,  1.16it/s]"
     ]
    },
    {
     "name": "stdout",
     "output_type": "stream",
     "text": [
      "Iteration 87/100: Shortest Cost = 1206.49\n"
     ]
    },
    {
     "name": "stderr",
     "output_type": "stream",
     "text": [
      "ACO Progress:  88%|████████▊ | 88/100 [01:07<00:10,  1.19it/s]"
     ]
    },
    {
     "name": "stdout",
     "output_type": "stream",
     "text": [
      "Iteration 88/100: Shortest Cost = 1206.49\n"
     ]
    },
    {
     "name": "stderr",
     "output_type": "stream",
     "text": [
      "ACO Progress:  89%|████████▉ | 89/100 [01:08<00:09,  1.21it/s]"
     ]
    },
    {
     "name": "stdout",
     "output_type": "stream",
     "text": [
      "Iteration 89/100: Shortest Cost = 1206.49\n"
     ]
    },
    {
     "name": "stderr",
     "output_type": "stream",
     "text": [
      "ACO Progress:  90%|█████████ | 90/100 [01:09<00:08,  1.21it/s]"
     ]
    },
    {
     "name": "stdout",
     "output_type": "stream",
     "text": [
      "Iteration 90/100: Shortest Cost = 1206.49\n"
     ]
    },
    {
     "name": "stderr",
     "output_type": "stream",
     "text": [
      "ACO Progress:  91%|█████████ | 91/100 [01:10<00:07,  1.19it/s]"
     ]
    },
    {
     "name": "stdout",
     "output_type": "stream",
     "text": [
      "Iteration 91/100: Shortest Cost = 1206.49\n"
     ]
    },
    {
     "name": "stderr",
     "output_type": "stream",
     "text": [
      "ACO Progress:  92%|█████████▏| 92/100 [01:11<00:06,  1.20it/s]"
     ]
    },
    {
     "name": "stdout",
     "output_type": "stream",
     "text": [
      "Iteration 92/100: Shortest Cost = 1206.49\n"
     ]
    },
    {
     "name": "stderr",
     "output_type": "stream",
     "text": [
      "ACO Progress:  93%|█████████▎| 93/100 [01:12<00:05,  1.23it/s]"
     ]
    },
    {
     "name": "stdout",
     "output_type": "stream",
     "text": [
      "Iteration 93/100: Shortest Cost = 1206.49\n"
     ]
    },
    {
     "name": "stderr",
     "output_type": "stream",
     "text": [
      "ACO Progress:  94%|█████████▍| 94/100 [01:12<00:04,  1.23it/s]"
     ]
    },
    {
     "name": "stdout",
     "output_type": "stream",
     "text": [
      "Iteration 94/100: Shortest Cost = 1206.49\n"
     ]
    },
    {
     "name": "stderr",
     "output_type": "stream",
     "text": [
      "ACO Progress:  95%|█████████▌| 95/100 [01:13<00:04,  1.23it/s]"
     ]
    },
    {
     "name": "stdout",
     "output_type": "stream",
     "text": [
      "Iteration 95/100: Shortest Cost = 1206.49\n"
     ]
    },
    {
     "name": "stderr",
     "output_type": "stream",
     "text": [
      "ACO Progress:  96%|█████████▌| 96/100 [01:14<00:03,  1.22it/s]"
     ]
    },
    {
     "name": "stdout",
     "output_type": "stream",
     "text": [
      "Iteration 96/100: Shortest Cost = 1206.49\n"
     ]
    },
    {
     "name": "stderr",
     "output_type": "stream",
     "text": [
      "ACO Progress:  97%|█████████▋| 97/100 [01:15<00:02,  1.19it/s]"
     ]
    },
    {
     "name": "stdout",
     "output_type": "stream",
     "text": [
      "Iteration 97/100: Shortest Cost = 1206.49\n"
     ]
    },
    {
     "name": "stderr",
     "output_type": "stream",
     "text": [
      "ACO Progress:  98%|█████████▊| 98/100 [01:16<00:01,  1.20it/s]"
     ]
    },
    {
     "name": "stdout",
     "output_type": "stream",
     "text": [
      "Iteration 98/100: Shortest Cost = 1206.49\n"
     ]
    },
    {
     "name": "stderr",
     "output_type": "stream",
     "text": [
      "ACO Progress:  99%|█████████▉| 99/100 [01:16<00:00,  1.22it/s]"
     ]
    },
    {
     "name": "stdout",
     "output_type": "stream",
     "text": [
      "Iteration 99/100: Shortest Cost = 1206.49\n"
     ]
    },
    {
     "name": "stderr",
     "output_type": "stream",
     "text": [
      "ACO Progress: 100%|██████████| 100/100 [01:17<00:00,  1.29it/s]"
     ]
    },
    {
     "name": "stdout",
     "output_type": "stream",
     "text": [
      "Iteration 100/100: Shortest Cost = 1206.49\n",
      "\n",
      "Results:\n",
      "Shortest Path (in terms of index): [86, 42, 38, 39, 41, 64, 73, 0, 95, 51, 37, 33, 92, 49, 4, 80, 84, 91, 40, 21, 45, 59, 15, 74, 46, 27, 87, 35, 56, 54, 50, 63, 77, 60, 10, 28, 20, 82, 55, 94, 99, 65, 36, 6, 88, 97, 85, 25, 3, 90, 5, 69, 12, 31, 14, 2, 44, 30, 76, 11, 29, 47, 26, 93, 68, 81, 79, 43, 52, 17, 24, 71, 48, 1, 19, 62, 98, 66, 18, 22, 89, 53, 78, 96, 8, 61, 32, 57, 83, 7, 58, 75, 70, 9, 16, 72, 23, 13, 34, 67]\n",
      "Shortest Path Cost: 1206.4861341849182\n",
      "GOR Values along Shortest Path: [165.36458333333334, 162.79293739967898, 156.59638554216866, 154.64055299539172, 151.9662447257384, 145.6128739800544, 149.3961038961039, 149.67777777777778, 159.1151832460733, 156.29716599190283, 153.03468208092485, 152.3510941960038, 148.0322966507177, 145.3498920086393, 147.76436363636364, 147.0, 144.44166666666666, 150.755538579068, 153.01483679525222, 151.39983022071308, 150.1638655462185, 150.5408245755861, 146.1119221411192, 152.67985074626867, 155.85566188197768, 155.51221896383186, 153.66382252559728, 153.34928716904278, 152.86279069767443, 166.74468085106383, 152.72912621359222, 152.76155938349956, 156.53846153846155, 162.46728971962617, 160.36666666666667, 154.64596273291926, 153.31382978723406, 149.848, 147.8217054263566, 147.76377952755905, 148.9, 146.25714285714287, 145.63636363636363, 146.0261437908497, 148.13818479149631, 150.55067264573992, 135.30229142185664, 141.3453372749261, 143.8381647149165, 138.073840445269, 134.81857585139318, 145.59126454320045, 140.3849710982659, 141.11431175934368, 140.7067106710671, 138.95345211581292, 138.5910447761194, 131.9535221496006, 141.984721716988, 143.79290465631928, 145.0236503856041, 161.12871287128712, 148.56702187324734, 149.68172043010753, 140.64832535885168, 96.01397624039132, 115.04733727810653, 160.0040650406504, 153.1725352112676, 154.26172839506174, 155.24923076923076, 160.13747645951037, 157.74074074074073, 159.8, 164.712, 159.88747346072188, 159.1917525773196, 151.21502209131074, 148.41002949852506, 151.36063218390805, 148.4568245125348, 149.24264705882354, 152.04761904761904, 153.10526315789474, 159.592, 161.66187050359713, 162.78181818181818, 163.9151515151515, 162.86544342507645, 162.83386581469648, 162.88118811881188, 160.96178343949043, 164.625, 179.09485094850947, 162.1067106710671, 162.96625766871165, 139.37525423728815, 142.3690100430416, 102.37211740041928, 105.59233097880929]\n",
      "\n",
      "Feature Influence (based on pheromone):\n",
      "AVG_DOWNHOLE_PRESSURE: 38.33\n",
      "AVG_DOWNHOLE_TEMPERATURE: 19.05\n",
      "AVG_ANNULUS_PRESS: 31.60\n",
      "AVG_CHOKE_SIZE_P: 14.68\n",
      "Calculated_GOR: 60.20\n"
     ]
    },
    {
     "name": "stderr",
     "output_type": "stream",
     "text": [
      "\n"
     ]
    }
   ],
   "source": [
    "# Use the sampled data for ACO\n",
    "num_ants = 10\n",
    "num_iterations = 100  # Reduce the number of iterations to make it faster\n",
    "decay = 0.95\n",
    "alpha = 1\n",
    "beta = 2\n",
    "\n",
    "# Initialize distance and pheromone matrices\n",
    "num_points = len(sampled_data)\n",
    "distance_matrix = np.zeros((num_points, num_points))\n",
    "pheromone_matrix = np.ones_like(distance_matrix) / num_points\n",
    "\n",
    "# Calculate the distance matrix based on specified features\n",
    "for i in range(num_points):\n",
    "    for j in range(num_points):\n",
    "        if i != j:\n",
    "            distance_matrix[i, j] = np.sqrt(\n",
    "                (sampled_data.iloc[i]['AVG_DOWNHOLE_PRESSURE'] - sampled_data.iloc[j]['AVG_DOWNHOLE_PRESSURE']) ** 2 +\n",
    "                (sampled_data.iloc[i]['AVG_DOWNHOLE_TEMPERATURE'] - sampled_data.iloc[j]['AVG_DOWNHOLE_TEMPERATURE']) ** 2 +\n",
    "                (sampled_data.iloc[i]['AVG_ANNULUS_PRESS'] - sampled_data.iloc[j]['AVG_ANNULUS_PRESS']) ** 2 +\n",
    "                (sampled_data.iloc[i]['AVG_CHOKE_SIZE_P'] - sampled_data.iloc[j]['AVG_CHOKE_SIZE_P']) ** 2 +\n",
    "                (sampled_data.iloc[i]['Calculated_GOR'] - sampled_data.iloc[j]['Calculated_GOR']) ** 2 \n",
    "            )\n",
    "\n",
    "# Run ACO for the specified number of iterations\n",
    "shortest_path = None\n",
    "shortest_cost = np.inf\n",
    "\n",
    "for iteration in tqdm(range(num_iterations), desc=\"ACO Progress\"):\n",
    "    # Step 1: Generate paths for each ant\n",
    "    ants_paths = []\n",
    "    for _ in range(num_ants):\n",
    "        start = np.random.randint(num_points)\n",
    "        path = [start]\n",
    "        visited = set([start])\n",
    "        \n",
    "        # Construct path by choosing the next point based on pheromone and distance\n",
    "        while len(visited) < num_points:\n",
    "            current_point = path[-1]\n",
    "            pheromone = pheromone_matrix[current_point]\n",
    "            dist = distance_matrix[current_point]\n",
    "            \n",
    "            # Set probability for unvisited nodes only\n",
    "            unvisited_prob = np.where(np.isin(np.arange(len(pheromone)), list(visited)), 0, 1)\n",
    "            probabilities = pheromone ** alpha * (unvisited_prob * (1.0 / (dist + 1e-10)) ** beta)\n",
    "            probabilities /= np.sum(probabilities)\n",
    "            \n",
    "            # Select the next point based on probabilities\n",
    "            next_point = np.random.choice(num_points, p=probabilities)\n",
    "            path.append(next_point)\n",
    "            visited.add(next_point)\n",
    "        \n",
    "        ants_paths.append(path)\n",
    "    \n",
    "    # Step 2: Update pheromone matrix based on paths\n",
    "    pheromone_matrix *= decay\n",
    "    for path in ants_paths:\n",
    "        for i in range(len(path) - 1):\n",
    "            pheromone_matrix[path[i], path[i + 1]] += 1.0 / distance_matrix[path[i], path[i + 1]]\n",
    "\n",
    "    # Step 3: Evaluate each path and keep track of the shortest\n",
    "    for path in ants_paths:\n",
    "        path_cost = sum(distance_matrix[path[i], path[i + 1]] for i in range(len(path) - 1))\n",
    "        if path_cost < shortest_cost:\n",
    "            shortest_cost = path_cost\n",
    "            shortest_path = path\n",
    "    \n",
    "    # Logging progress\n",
    "    tqdm.write(f\"Iteration {iteration + 1}/{num_iterations}: Shortest Cost = {shortest_cost:.2f}\")\n",
    "\n",
    "# Extract GOR values from the shortest path\n",
    "gor_values = [sampled_data.iloc[i]['Calculated_GOR'] for i in shortest_path]\n",
    "\n",
    "# Determine feature influence based on pheromone matrix\n",
    "feature_influence = {\n",
    "    'AVG_DOWNHOLE_PRESSURE': np.sum(pheromone_matrix[:, 0]),\n",
    "    'AVG_DOWNHOLE_TEMPERATURE': np.sum(pheromone_matrix[:, 1]),\n",
    "    'AVG_ANNULUS_PRESS': np.sum(pheromone_matrix[:, 2]),\n",
    "    'AVG_CHOKE_SIZE_P': np.sum(pheromone_matrix[:, 3]),\n",
    "    'Calculated_GOR': np.sum(pheromone_matrix[:, 4])\n",
    "}\n",
    "\n",
    "# Display the results\n",
    "print(\"\\nResults:\")\n",
    "print(\"Shortest Path (in terms of index):\", shortest_path)\n",
    "print(\"Shortest Path Cost:\", shortest_cost)\n",
    "print(\"GOR Values along Shortest Path:\", gor_values)\n",
    "print(\"\\nFeature Influence (based on pheromone):\")\n",
    "for feature, influence in feature_influence.items():\n",
    "    print(f\"{feature}: {influence:.2f}\")"
   ]
  },
  {
   "cell_type": "code",
   "execution_count": 34,
   "id": "8d88f236-6283-4c56-bc8c-a18ed9db9dee",
   "metadata": {},
   "outputs": [
    {
     "name": "stderr",
     "output_type": "stream",
     "text": [
      "ACO Progress: 100%|██████████| 100/100 [00:00<00:00, 50039.42it/s]\n"
     ]
    },
    {
     "name": "stdout",
     "output_type": "stream",
     "text": [
      "Path Cost Reduction Over Iterations:\n",
      "Iteration 1: Shortest Cost = 1206.49\n",
      "Iteration 2: Shortest Cost = 1206.49\n",
      "Iteration 3: Shortest Cost = 1206.49\n",
      "Iteration 4: Shortest Cost = 1206.49\n",
      "Iteration 5: Shortest Cost = 1206.49\n",
      "Iteration 6: Shortest Cost = 1206.49\n",
      "Iteration 7: Shortest Cost = 1206.49\n",
      "Iteration 8: Shortest Cost = 1206.49\n",
      "Iteration 9: Shortest Cost = 1206.49\n",
      "Iteration 10: Shortest Cost = 1206.49\n",
      "Iteration 11: Shortest Cost = 1206.49\n",
      "Iteration 12: Shortest Cost = 1206.49\n",
      "Iteration 13: Shortest Cost = 1206.49\n",
      "Iteration 14: Shortest Cost = 1206.49\n",
      "Iteration 15: Shortest Cost = 1206.49\n",
      "Iteration 16: Shortest Cost = 1206.49\n",
      "Iteration 17: Shortest Cost = 1206.49\n",
      "Iteration 18: Shortest Cost = 1206.49\n",
      "Iteration 19: Shortest Cost = 1206.49\n",
      "Iteration 20: Shortest Cost = 1206.49\n",
      "Iteration 21: Shortest Cost = 1206.49\n",
      "Iteration 22: Shortest Cost = 1206.49\n",
      "Iteration 23: Shortest Cost = 1206.49\n",
      "Iteration 24: Shortest Cost = 1206.49\n",
      "Iteration 25: Shortest Cost = 1206.49\n",
      "Iteration 26: Shortest Cost = 1206.49\n",
      "Iteration 27: Shortest Cost = 1206.49\n",
      "Iteration 28: Shortest Cost = 1206.49\n",
      "Iteration 29: Shortest Cost = 1206.49\n",
      "Iteration 30: Shortest Cost = 1206.49\n",
      "Iteration 31: Shortest Cost = 1206.49\n",
      "Iteration 32: Shortest Cost = 1206.49\n",
      "Iteration 33: Shortest Cost = 1206.49\n",
      "Iteration 34: Shortest Cost = 1206.49\n",
      "Iteration 35: Shortest Cost = 1206.49\n",
      "Iteration 36: Shortest Cost = 1206.49\n",
      "Iteration 37: Shortest Cost = 1206.49\n",
      "Iteration 38: Shortest Cost = 1206.49\n",
      "Iteration 39: Shortest Cost = 1206.49\n",
      "Iteration 40: Shortest Cost = 1206.49\n",
      "Iteration 41: Shortest Cost = 1206.49\n",
      "Iteration 42: Shortest Cost = 1206.49\n",
      "Iteration 43: Shortest Cost = 1206.49\n",
      "Iteration 44: Shortest Cost = 1206.49\n",
      "Iteration 45: Shortest Cost = 1206.49\n",
      "Iteration 46: Shortest Cost = 1206.49\n",
      "Iteration 47: Shortest Cost = 1206.49\n",
      "Iteration 48: Shortest Cost = 1206.49\n",
      "Iteration 49: Shortest Cost = 1206.49\n",
      "Iteration 50: Shortest Cost = 1206.49\n",
      "Iteration 51: Shortest Cost = 1206.49\n",
      "Iteration 52: Shortest Cost = 1206.49\n",
      "Iteration 53: Shortest Cost = 1206.49\n",
      "Iteration 54: Shortest Cost = 1206.49\n",
      "Iteration 55: Shortest Cost = 1206.49\n",
      "Iteration 56: Shortest Cost = 1206.49\n",
      "Iteration 57: Shortest Cost = 1206.49\n",
      "Iteration 58: Shortest Cost = 1206.49\n",
      "Iteration 59: Shortest Cost = 1206.49\n",
      "Iteration 60: Shortest Cost = 1206.49\n",
      "Iteration 61: Shortest Cost = 1206.49\n",
      "Iteration 62: Shortest Cost = 1206.49\n",
      "Iteration 63: Shortest Cost = 1206.49\n",
      "Iteration 64: Shortest Cost = 1206.49\n",
      "Iteration 65: Shortest Cost = 1206.49\n",
      "Iteration 66: Shortest Cost = 1206.49\n",
      "Iteration 67: Shortest Cost = 1206.49\n",
      "Iteration 68: Shortest Cost = 1206.49\n",
      "Iteration 69: Shortest Cost = 1206.49\n",
      "Iteration 70: Shortest Cost = 1206.49\n",
      "Iteration 71: Shortest Cost = 1206.49\n",
      "Iteration 72: Shortest Cost = 1206.49\n",
      "Iteration 73: Shortest Cost = 1206.49\n",
      "Iteration 74: Shortest Cost = 1206.49\n",
      "Iteration 75: Shortest Cost = 1206.49\n",
      "Iteration 76: Shortest Cost = 1206.49\n",
      "Iteration 77: Shortest Cost = 1206.49\n",
      "Iteration 78: Shortest Cost = 1206.49\n",
      "Iteration 79: Shortest Cost = 1206.49\n",
      "Iteration 80: Shortest Cost = 1206.49\n",
      "Iteration 81: Shortest Cost = 1206.49\n",
      "Iteration 82: Shortest Cost = 1206.49\n",
      "Iteration 83: Shortest Cost = 1206.49\n",
      "Iteration 84: Shortest Cost = 1206.49\n",
      "Iteration 85: Shortest Cost = 1206.49\n",
      "Iteration 86: Shortest Cost = 1206.49\n",
      "Iteration 87: Shortest Cost = 1206.49\n",
      "Iteration 88: Shortest Cost = 1206.49\n",
      "Iteration 89: Shortest Cost = 1206.49\n",
      "Iteration 90: Shortest Cost = 1206.49\n",
      "Iteration 91: Shortest Cost = 1206.49\n",
      "Iteration 92: Shortest Cost = 1206.49\n",
      "Iteration 93: Shortest Cost = 1206.49\n",
      "Iteration 94: Shortest Cost = 1206.49\n",
      "Iteration 95: Shortest Cost = 1206.49\n",
      "Iteration 96: Shortest Cost = 1206.49\n",
      "Iteration 97: Shortest Cost = 1206.49\n",
      "Iteration 98: Shortest Cost = 1206.49\n",
      "Iteration 99: Shortest Cost = 1206.49\n",
      "Iteration 100: Shortest Cost = 1206.49\n"
     ]
    },
    {
     "data": {
      "image/png": "[encoded data removed]",
      "text/plain": [
       "<Figure size 640x480 with 1 Axes>"
      ]
     },
     "metadata": {},
     "output_type": "display_data"
    }
   ],
   "source": [
    "# Initialize a list to track the shortest cost for each iteration\n",
    "costs_per_iteration = []\n",
    "\n",
    "for iteration in tqdm(range(num_iterations), desc=\"ACO Progress\"):\n",
    "    # ... (existing code for path generation and pheromone update)\n",
    "\n",
    "    # Append the shortest cost for this iteration to the list\n",
    "    costs_per_iteration.append(shortest_cost)\n",
    "\n",
    "# Print costs for analysis\n",
    "print(\"Path Cost Reduction Over Iterations:\")\n",
    "for i, cost in enumerate(costs_per_iteration, 1):\n",
    "    print(f\"Iteration {i}: Shortest Cost = {cost:.2f}\")\n",
    "\n",
    "# Plot the costs over iterations\n",
    "plt.figure()\n",
    "plt.plot(range(1, num_iterations + 1), costs_per_iteration, marker='o')\n",
    "plt.xlabel(\"Iteration\")\n",
    "plt.ylabel(\"Shortest Cost\")\n",
    "plt.title(\"Path Cost Reduction Over Iterations\")\n",
    "plt.grid(True)\n",
    "plt.show()\n"
   ]
  },
  {
   "cell_type": "code",
   "execution_count": 36,
   "id": "b76d7cdb-83b2-4b5b-a351-ae33bf52f345",
   "metadata": {},
   "outputs": [
    {
     "name": "stdout",
     "output_type": "stream",
     "text": [
      "\n",
      "GOR Values Along the Shortest Path:\n",
      "Point 1: GOR = 165.36\n",
      "Point 2: GOR = 162.79\n",
      "Point 3: GOR = 156.60\n",
      "Point 4: GOR = 154.64\n",
      "Point 5: GOR = 151.97\n",
      "Point 6: GOR = 145.61\n",
      "Point 7: GOR = 149.40\n",
      "Point 8: GOR = 149.68\n",
      "Point 9: GOR = 159.12\n",
      "Point 10: GOR = 156.30\n",
      "Point 11: GOR = 153.03\n",
      "Point 12: GOR = 152.35\n",
      "Point 13: GOR = 148.03\n",
      "Point 14: GOR = 145.35\n",
      "Point 15: GOR = 147.76\n",
      "Point 16: GOR = 147.00\n",
      "Point 17: GOR = 144.44\n",
      "Point 18: GOR = 150.76\n",
      "Point 19: GOR = 153.01\n",
      "Point 20: GOR = 151.40\n",
      "Point 21: GOR = 150.16\n",
      "Point 22: GOR = 150.54\n",
      "Point 23: GOR = 146.11\n",
      "Point 24: GOR = 152.68\n",
      "Point 25: GOR = 155.86\n",
      "Point 26: GOR = 155.51\n",
      "Point 27: GOR = 153.66\n",
      "Point 28: GOR = 153.35\n",
      "Point 29: GOR = 152.86\n",
      "Point 30: GOR = 166.74\n",
      "Point 31: GOR = 152.73\n",
      "Point 32: GOR = 152.76\n",
      "Point 33: GOR = 156.54\n",
      "Point 34: GOR = 162.47\n",
      "Point 35: GOR = 160.37\n",
      "Point 36: GOR = 154.65\n",
      "Point 37: GOR = 153.31\n",
      "Point 38: GOR = 149.85\n",
      "Point 39: GOR = 147.82\n",
      "Point 40: GOR = 147.76\n",
      "Point 41: GOR = 148.90\n",
      "Point 42: GOR = 146.26\n",
      "Point 43: GOR = 145.64\n",
      "Point 44: GOR = 146.03\n",
      "Point 45: GOR = 148.14\n",
      "Point 46: GOR = 150.55\n",
      "Point 47: GOR = 135.30\n",
      "Point 48: GOR = 141.35\n",
      "Point 49: GOR = 143.84\n",
      "Point 50: GOR = 138.07\n",
      "Point 51: GOR = 134.82\n",
      "Point 52: GOR = 145.59\n",
      "Point 53: GOR = 140.38\n",
      "Point 54: GOR = 141.11\n",
      "Point 55: GOR = 140.71\n",
      "Point 56: GOR = 138.95\n",
      "Point 57: GOR = 138.59\n",
      "Point 58: GOR = 131.95\n",
      "Point 59: GOR = 141.98\n",
      "Point 60: GOR = 143.79\n",
      "Point 61: GOR = 145.02\n",
      "Point 62: GOR = 161.13\n",
      "Point 63: GOR = 148.57\n",
      "Point 64: GOR = 149.68\n",
      "Point 65: GOR = 140.65\n",
      "Point 66: GOR = 96.01\n",
      "Point 67: GOR = 115.05\n",
      "Point 68: GOR = 160.00\n",
      "Point 69: GOR = 153.17\n",
      "Point 70: GOR = 154.26\n",
      "Point 71: GOR = 155.25\n",
      "Point 72: GOR = 160.14\n",
      "Point 73: GOR = 157.74\n",
      "Point 74: GOR = 159.80\n",
      "Point 75: GOR = 164.71\n",
      "Point 76: GOR = 159.89\n",
      "Point 77: GOR = 159.19\n",
      "Point 78: GOR = 151.22\n",
      "Point 79: GOR = 148.41\n",
      "Point 80: GOR = 151.36\n",
      "Point 81: GOR = 148.46\n",
      "Point 82: GOR = 149.24\n",
      "Point 83: GOR = 152.05\n",
      "Point 84: GOR = 153.11\n",
      "Point 85: GOR = 159.59\n",
      "Point 86: GOR = 161.66\n",
      "Point 87: GOR = 162.78\n",
      "Point 88: GOR = 163.92\n",
      "Point 89: GOR = 162.87\n",
      "Point 90: GOR = 162.83\n",
      "Point 91: GOR = 162.88\n",
      "Point 92: GOR = 160.96\n",
      "Point 93: GOR = 164.62\n",
      "Point 94: GOR = 179.09\n",
      "Point 95: GOR = 162.11\n",
      "Point 96: GOR = 162.97\n",
      "Point 97: GOR = 139.38\n",
      "Point 98: GOR = 142.37\n",
      "Point 99: GOR = 102.37\n",
      "Point 100: GOR = 105.59\n"
     ]
    },
    {
     "data": {
      "image/png": "[encoded data removed]",
      "text/plain": [
       "<Figure size 640x480 with 1 Axes>"
      ]
     },
     "metadata": {},
     "output_type": "display_data"
    }
   ],
   "source": [
    "# Print GOR values for each point in the shortest path\n",
    "print(\"\\nGOR Values Along the Shortest Path:\")\n",
    "for i, gor in enumerate(gor_values, 1):\n",
    "    print(f\"Point {i}: GOR = {gor:.2f}\")\n",
    "\n",
    "# Plot the GOR values along the path\n",
    "plt.figure()\n",
    "plt.plot(range(1, len(gor_values) + 1), gor_values, marker='o')\n",
    "plt.xlabel(\"Path Index\")\n",
    "plt.ylabel(\"GOR Value\")\n",
    "plt.title(\"GOR Values Along the Shortest Path\")\n",
    "plt.grid(True)\n",
    "plt.show()"
   ]
  },
  {
   "cell_type": "code",
   "execution_count": 40,
   "id": "d734f348-dad2-4a55-9fa6-03e40d87671d",
   "metadata": {},
   "outputs": [
    {
     "name": "stdout",
     "output_type": "stream",
     "text": [
      "\n",
      "Feature Influence on Path Selection (Based on Pheromone Values):\n",
      "AVG_DOWNHOLE_PRESSURE: 38.33\n",
      "AVG_DOWNHOLE_TEMPERATURE: 19.05\n",
      "AVG_ANNULUS_PRESS: 31.60\n",
      "AVG_CHOKE_SIZE_P: 14.68\n",
      "Calculated_GOR: 60.20\n"
     ]
    }
   ],
   "source": [
    "# Print feature influence for analysis\n",
    "print(\"\\nFeature Influence on Path Selection (Based on Pheromone Values):\")\n",
    "for feature, influence in feature_influence.items():\n",
    "    print(f\"{feature}: {influence:.2f}\")"
   ]
  },
  {
   "cell_type": "code",
   "execution_count": 44,
   "id": "0f4972fb-ccd4-4e83-a716-03609169ec09",
   "metadata": {},
   "outputs": [
    {
     "data": {
      "image/png": "[encoded data removed]",
      "text/plain": [
       "<Figure size 1000x600 with 1 Axes>"
      ]
     },
     "metadata": {},
     "output_type": "display_data"
    }
   ],
   "source": [
    "import matplotlib.pyplot as plt\n",
    "\n",
    "# Define a list of colors for each bar\n",
    "colors = ['#FF5733', '#33FF57', '#3357FF', '#FF33A1', '#FF8F33']  # Custom colors for each feature\n",
    "\n",
    "# Plotting the feature influence\n",
    "features = list(feature_influence.keys())\n",
    "influence_values = list(feature_influence.values())\n",
    "\n",
    "plt.figure(figsize=(10, 6))\n",
    "plt.bar(features, influence_values, color=colors)  # Apply multiple colors\n",
    "plt.xlabel(\"Feature\")\n",
    "plt.ylabel(\"Pheromone Influence\")\n",
    "plt.title(\"Feature Influence on Path Selection (Pheromone Values)\")\n",
    "plt.xticks(rotation=45)\n",
    "plt.grid(axis='y', linestyle='--', alpha=0.7)  # Optional: add a light grid for better readability\n",
    "plt.show()\n"
   ]
  },
  {
   "cell_type": "code",
   "execution_count": 47,
   "id": "41314cfb-5639-42b7-b9fa-e0486670657d",
   "metadata": {},
   "outputs": [
    {
     "data": {
      "image/png": "[encoded data removed]",
      "text/plain": [
       "<Figure size 640x480 with 1 Axes>"
      ]
     },
     "metadata": {},
     "output_type": "display_data"
    }
   ],
   "source": [
    "import matplotlib.pyplot as plt\n",
    "\n",
    "# Data\n",
    "points = [1, 10, 30, 50, 70, 90, 100]\n",
    "gor_values = [165.36, 156.30, 166.74, 138.07, 154.26, 162.83, 105.59]\n",
    "\n",
    "# Plotting the graph\n",
    "plt.plot(points, gor_values, marker='o', linestyle='-', color='b', label='GOR Value')\n",
    "\n",
    "# Adding labels and title\n",
    "plt.xlabel('Point')\n",
    "plt.ylabel('GOR Value')\n",
    "plt.title('Point vs GOR Value')\n",
    "\n",
    "# Displaying the legend\n",
    "plt.legend()\n",
    "\n",
    "# Display the plot\n",
    "plt.show()\n"
   ]
  },
  {
   "cell_type": "code",
   "execution_count": null,
   "id": "eaf3178b-6056-419e-90ab-d6beafd12361",
   "metadata": {},
   "outputs": [],
   "source": []
  }
 ],
 "metadata": {
  "kernelspec": {
   "display_name": "Python 3 (ipykernel)",
   "language": "python",
   "name": "python3"
  },
  "language_info": {
   "codemirror_mode": {
    "name": "ipython",
    "version": 3
   },
   "file_extension": ".py",
   "mimetype": "text/x-python",
   "name": "python",
   "nbconvert_exporter": "python",
   "pygments_lexer": "ipython3",
   "version": "3.12.4"
  }
 },
 "nbformat": 4,
 "nbformat_minor": 5
}
