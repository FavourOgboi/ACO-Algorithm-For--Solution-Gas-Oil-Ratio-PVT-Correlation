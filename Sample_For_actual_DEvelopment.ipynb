{
 "cells": [
  {
   "cell_type": "code",
   "execution_count": null,
   "metadata": {
    "id": "zuGg05VfRHGU"
   },
   "outputs": [],
   "source": [
    "import numpy as np\n",
    "from sklearn.linear_model import LinearRegression"
   ]
  },
  {
   "cell_type": "code",
   "execution_count": null,
   "metadata": {
    "id": "OnXfUBpdROsF"
   },
   "outputs": [],
   "source": [
    "class AntColonyOptimization:\n",
    "    def __init__(self, pvt_data, num_ants=10, num_iterations=100, decay=0.95, alpha=1, beta=2):\n",
    "        self.pvt_data = pvt_data\n",
    "        self.num_ants = num_ants\n",
    "        self.num_iterations = num_iterations\n",
    "        self.decay = decay\n",
    "        self.alpha = alpha\n",
    "        self.beta = beta\n",
    "        self.distance_matrix = self.calculate_distance_matrix()\n",
    "        self.pheromone_matrix = np.ones_like(self.distance_matrix) / len(pvt_data)\n",
    "        self.shortest_path = None\n",
    "        self.shortest_cost = np.inf\n",
    "\n",
    "    def calculate_distance_matrix(self):\n",
    "        num_points = len(self.pvt_data)\n",
    "        dist_matrix = np.zeros((num_points, num_points))\n",
    "        for i in range(num_points):\n",
    "            for j in range(num_points):\n",
    "                if i != j:\n",
    "                    # Use a simple distance metric; can be adjusted based on your data\n",
    "                    dist_matrix[i, j] = np.abs(self.pvt_data[i]['bubble_point_pressure'] - self.pvt_data[j]['bubble_point_pressure'])\n",
    "        return dist_matrix\n",
    "\n",
    "    def run(self):\n",
    "        for _ in range(self.num_iterations):\n",
    "            # Initialize ants\n",
    "            ants_paths = self.generate_ant_paths()\n",
    "            # Update pheromone levels\n",
    "            self.update_pheromone(ants_paths)\n",
    "            # Find the shortest path\n",
    "            shortest_path, shortest_cost = self.get_shortest_path(ants_paths)\n",
    "            # Update global shortest path\n",
    "            if shortest_cost < self.shortest_cost:\n",
    "                self.shortest_path = shortest_path\n",
    "                self.shortest_cost = shortest_cost\n",
    "        return self.shortest_path, self.shortest_cost\n",
    "\n",
    "    def generate_ant_paths(self):\n",
    "        num_points = len(self.pvt_data)\n",
    "        ants_paths = []\n",
    "        for _ in range(self.num_ants):\n",
    "            start = np.random.randint(num_points)\n",
    "            path = [start]\n",
    "            visited = set([start])\n",
    "            while len(visited) < num_points:\n",
    "                probs = self.calculate_probabilities(path[-1], visited)\n",
    "                next_point = np.random.choice(num_points, p=probs)\n",
    "                path.append(next_point)\n",
    "                visited.add(next_point)\n",
    "            ants_paths.append(path)\n",
    "        return ants_paths\n",
    "\n",
    "    def calculate_probabilities(self, current_point, visited):\n",
    "        pheromone = self.pheromone_matrix[current_point]\n",
    "        dist = self.distance_matrix[current_point]\n",
    "        unvisited_prob = np.where(np.isin(np.arange(len(pheromone)), list(visited)), 0, 1)\n",
    "        row = pheromone ** self.alpha * (unvisited_prob * (1.0 / (dist + 1e-10)) ** self.beta)\n",
    "        probabilities = row / np.sum(row)\n",
    "        return probabilities\n",
    "\n",
    "    def update_pheromone(self, ants_paths):\n",
    "        self.pheromone_matrix *= self.decay\n",
    "        for path in ants_paths:\n",
    "            for i in range(len(path) - 1):\n",
    "                self.pheromone_matrix[path[i], path[i+1]] += 1.0 / self.distance_matrix[path[i], path[i+1]]\n",
    "\n",
    "    def get_shortest_path(self, ants_paths):\n",
    "        shortest_cost = np.inf\n",
    "        shortest_path = None\n",
    "        for path in ants_paths:\n",
    "            path_cost = self.calculate_path_cost(path)\n",
    "            if path_cost < shortest_cost:\n",
    "                shortest_cost = path_cost\n",
    "                shortest_path = path\n",
    "        return shortest_path, shortest_cost\n",
    "\n",
    "    def calculate_path_cost(self, path):\n",
    "        path_cost = 0\n",
    "        for i in range(len(path) - 1):\n",
    "            path_cost += self.distance_matrix[path[i], path[i+1]]\n",
    "        return path_cost\n"
   ]
  },
  {
   "cell_type": "code",
   "execution_count": null,
   "metadata": {
    "colab": {
     "base_uri": "https://localhost:8080/"
    },
    "id": "hLFVknR_Rc67",
    "outputId": "36eb2dd7-f704-4676-c581-64bf7b2d869c"
   },
   "outputs": [
    {
     "name": "stdout",
     "output_type": "stream",
     "text": [
      "Optimized parameters: [155, 235, 301, 365, 429, 492, 555, 620, 684, 737]\n",
      "\n",
      "Enter bubble point pressure:\n",
      "950\n",
      "Enter API gravity:\n",
      "37\n",
      "Enter gas gravity:\n",
      "0.743\n",
      "Enter reservoir temperature:\n",
      "129\n",
      "Estimated GOR: [361.06051082]\n"
     ]
    }
   ],
   "source": [
    "def main():\n",
    "    # Example PVT data\n",
    "    pvt_data = [\n",
    "        {'bubble_point_pressure': 2405, 'api_gravity': 37, 'gas_gravity': 0.743, 'reservoir_temperature': 129, 'actual_gor': 737},\n",
    "        {'bubble_point_pressure': 2200, 'api_gravity': 37, 'gas_gravity': 0.743, 'reservoir_temperature': 129, 'actual_gor': 684},\n",
    "        {'bubble_point_pressure': 1950, 'api_gravity': 37, 'gas_gravity': 0.743, 'reservoir_temperature': 129, 'actual_gor': 620},\n",
    "        {'bubble_point_pressure': 1700, 'api_gravity': 37, 'gas_gravity': 0.743, 'reservoir_temperature': 129, 'actual_gor': 555},\n",
    "        {'bubble_point_pressure': 1450, 'api_gravity': 37, 'gas_gravity': 0.743, 'reservoir_temperature': 129, 'actual_gor': 492},\n",
    "        {'bubble_point_pressure': 1200, 'api_gravity': 37, 'gas_gravity': 0.743, 'reservoir_temperature': 129, 'actual_gor': 429},\n",
    "        {'bubble_point_pressure': 950, 'api_gravity': 37, 'gas_gravity': 0.743, 'reservoir_temperature': 129, 'actual_gor': 365},\n",
    "        {'bubble_point_pressure': 700, 'api_gravity': 37, 'gas_gravity': 0.743, 'reservoir_temperature': 129, 'actual_gor': 301},\n",
    "        {'bubble_point_pressure': 450, 'api_gravity': 37, 'gas_gravity': 0.743, 'reservoir_temperature': 129, 'actual_gor': 235},\n",
    "        {'bubble_point_pressure': 200, 'api_gravity': 37, 'gas_gravity': 0.743, 'reservoir_temperature': 129, 'actual_gor': 155},\n",
    "    ]\n",
    "\n",
    "    # Create ACO instance and run\n",
    "    aco = AntColonyOptimization(pvt_data, num_ants=10, num_iterations=100, decay=0.95, alpha=1, beta=2)\n",
    "    shortest_path, shortest_cost = aco.run()\n",
    "\n",
    "    # Extract optimized parameters from the shortest path found\n",
    "    optimized_indices = shortest_path  # Assuming shortest_path contains the optimized indices\n",
    "    optimized_parameters = [pvt_data[i]['actual_gor'] for i in optimized_indices]\n",
    "\n",
    "    # Output the optimized parameters\n",
    "    print(f\"Optimized parameters: {optimized_parameters}\")\n",
    "\n",
    "    # Fit a model using the inputs and optimized GOR values\n",
    "    X = np.array([[data['bubble_point_pressure'], data['api_gravity'], data['gas_gravity'], data['reservoir_temperature']] for data in pvt_data])\n",
    "    y = np.array([data['actual_gor'] for data in pvt_data])\n",
    "\n",
    "    model = LinearRegression()\n",
    "    model.fit(X, y)\n",
    "\n",
    "    # Example usage for new input values\n",
    "    print(\"\\nEnter bubble point pressure:\")\n",
    "    bubble_point_pressure = float(input())\n",
    "    print(\"Enter API gravity:\")\n",
    "    api_gravity = float(input())\n",
    "    print(\"Enter gas gravity:\")\n",
    "    gas_gravity = float(input())\n",
    "    print(\"Enter reservoir temperature:\")\n",
    "    reservoir_temperature = float(input())\n",
    "\n",
    "    # Predict the GOR for new input values using the fitted model\n",
    "    try:\n",
    "        estimated_gor = model.predict([[bubble_point_pressure, api_gravity, gas_gravity, reservoir_temperature]])\n",
    "        print(f\"Estimated GOR: {estimated_gor}\")\n",
    "    except Exception as e:\n",
    "        print(f\"Error: {e}\")\n",
    "\n",
    "if __name__ == \"__main__\":\n",
    "    main()\n"
   ]
  },
  {
   "cell_type": "code",
   "execution_count": null,
   "metadata": {
    "id": "sq-bNE4JdeSB"
   },
   "outputs": [],
   "source": []
  },
  {
   "cell_type": "code",
   "execution_count": 31,
   "metadata": {
    "colab": {
     "base_uri": "https://localhost:8080/"
    },
    "id": "hjWGEyY7eQhq",
    "outputId": "85cc08db-696d-4f20-bfd3-328c9a894df0"
   },
   "outputs": [
    {
     "name": "stdout",
     "output_type": "stream",
     "text": [
      "Input matrix (X):\n",
      "[[2.405e+03 3.700e+01 7.430e-01 1.290e+02]\n",
      " [2.200e+03 3.700e+01 7.430e-01 1.290e+02]\n",
      " [1.950e+03 3.700e+01 7.430e-01 1.290e+02]\n",
      " [1.700e+03 3.700e+01 7.430e-01 1.290e+02]\n",
      " [1.450e+03 3.700e+01 7.430e-01 1.290e+02]\n",
      " [1.200e+03 3.700e+01 7.430e-01 1.290e+02]\n",
      " [9.500e+02 3.700e+01 7.430e-01 1.290e+02]\n",
      " [7.000e+02 3.700e+01 7.430e-01 1.290e+02]\n",
      " [4.500e+02 3.700e+01 7.430e-01 1.290e+02]\n",
      " [2.000e+02 3.700e+01 7.430e-01 1.290e+02]]\n"
     ]
    }
   ],
   "source": [
    "import numpy as np\n",
    "\n",
    "# Example PVT data\n",
    "pvt_data = [\n",
    "    {'bubble_point_pressure': 2405, 'api_gravity': 37, 'gas_gravity': 0.743, 'reservoir_temperature': 129, 'actual_gor': 737},\n",
    "    {'bubble_point_pressure': 2200, 'api_gravity': 37, 'gas_gravity': 0.743, 'reservoir_temperature': 129, 'actual_gor': 684},\n",
    "    {'bubble_point_pressure': 1950, 'api_gravity': 37, 'gas_gravity': 0.743, 'reservoir_temperature': 129, 'actual_gor': 620},\n",
    "    {'bubble_point_pressure': 1700, 'api_gravity': 37, 'gas_gravity': 0.743, 'reservoir_temperature': 129, 'actual_gor': 555},\n",
    "    {'bubble_point_pressure': 1450, 'api_gravity': 37, 'gas_gravity': 0.743, 'reservoir_temperature': 129, 'actual_gor': 492},\n",
    "    {'bubble_point_pressure': 1200, 'api_gravity': 37, 'gas_gravity': 0.743, 'reservoir_temperature': 129, 'actual_gor': 429},\n",
    "    {'bubble_point_pressure': 950, 'api_gravity': 37, 'gas_gravity': 0.743, 'reservoir_temperature': 129, 'actual_gor': 365},\n",
    "    {'bubble_point_pressure': 700, 'api_gravity': 37, 'gas_gravity': 0.743, 'reservoir_temperature': 129, 'actual_gor': 301},\n",
    "    {'bubble_point_pressure': 450, 'api_gravity': 37, 'gas_gravity': 0.743, 'reservoir_temperature': 129, 'actual_gor': 235},\n",
    "    {'bubble_point_pressure': 200, 'api_gravity': 37, 'gas_gravity': 0.743, 'reservoir_temperature': 129, 'actual_gor': 155},\n",
    "]\n",
    "\n",
    "# Create X: Input matrix\n",
    "X = np.array([\n",
    "    [data['bubble_point_pressure'], data['api_gravity'], data['gas_gravity'], data['reservoir_temperature']]\n",
    "    for data in pvt_data\n",
    "])\n",
    "\n",
    "print(\"Input matrix (X):\")\n",
    "print(X)\n"
   ]
  },
  {
   "cell_type": "code",
   "execution_count": 32,
   "metadata": {
    "colab": {
     "base_uri": "https://localhost:8080/"
    },
    "id": "5GSnpAImee73",
    "outputId": "2732471d-1afa-441b-f9af-883f67d65946"
   },
   "outputs": [
    {
     "name": "stdout",
     "output_type": "stream",
     "text": [
      "\n",
      "Target variable (y):\n",
      "[737 684 620 555 492 429 365 301 235 155]\n"
     ]
    }
   ],
   "source": [
    "# Create y: Target variable\n",
    "y = np.array([data['actual_gor'] for data in pvt_data])\n",
    "\n",
    "print(\"\\nTarget variable (y):\")\n",
    "print(y)"
   ]
  },
  {
   "cell_type": "code",
   "execution_count": 33,
   "metadata": {
    "colab": {
     "base_uri": "https://localhost:8080/",
     "height": 74
    },
    "id": "G8HNtBHDdedV",
    "outputId": "fa15df1b-3fea-4d2f-e2b9-68bb7119c2cd"
   },
   "outputs": [
    {
     "data": {
      "text/html": [
       "<style>#sk-container-id-1 {color: black;background-color: white;}#sk-container-id-1 pre{padding: 0;}#sk-container-id-1 div.sk-toggleable {background-color: white;}#sk-container-id-1 label.sk-toggleable__label {cursor: pointer;display: block;width: 100%;margin-bottom: 0;padding: 0.3em;box-sizing: border-box;text-align: center;}#sk-container-id-1 label.sk-toggleable__label-arrow:before {content: \"▸\";float: left;margin-right: 0.25em;color: #696969;}#sk-container-id-1 label.sk-toggleable__label-arrow:hover:before {color: black;}#sk-container-id-1 div.sk-estimator:hover label.sk-toggleable__label-arrow:before {color: black;}#sk-container-id-1 div.sk-toggleable__content {max-height: 0;max-width: 0;overflow: hidden;text-align: left;background-color: #f0f8ff;}#sk-container-id-1 div.sk-toggleable__content pre {margin: 0.2em;color: black;border-radius: 0.25em;background-color: #f0f8ff;}#sk-container-id-1 input.sk-toggleable__control:checked~div.sk-toggleable__content {max-height: 200px;max-width: 100%;overflow: auto;}#sk-container-id-1 input.sk-toggleable__control:checked~label.sk-toggleable__label-arrow:before {content: \"▾\";}#sk-container-id-1 div.sk-estimator input.sk-toggleable__control:checked~label.sk-toggleable__label {background-color: #d4ebff;}#sk-container-id-1 div.sk-label input.sk-toggleable__control:checked~label.sk-toggleable__label {background-color: #d4ebff;}#sk-container-id-1 input.sk-hidden--visually {border: 0;clip: rect(1px 1px 1px 1px);clip: rect(1px, 1px, 1px, 1px);height: 1px;margin: -1px;overflow: hidden;padding: 0;position: absolute;width: 1px;}#sk-container-id-1 div.sk-estimator {font-family: monospace;background-color: #f0f8ff;border: 1px dotted black;border-radius: 0.25em;box-sizing: border-box;margin-bottom: 0.5em;}#sk-container-id-1 div.sk-estimator:hover {background-color: #d4ebff;}#sk-container-id-1 div.sk-parallel-item::after {content: \"\";width: 100%;border-bottom: 1px solid gray;flex-grow: 1;}#sk-container-id-1 div.sk-label:hover label.sk-toggleable__label {background-color: #d4ebff;}#sk-container-id-1 div.sk-serial::before {content: \"\";position: absolute;border-left: 1px solid gray;box-sizing: border-box;top: 0;bottom: 0;left: 50%;z-index: 0;}#sk-container-id-1 div.sk-serial {display: flex;flex-direction: column;align-items: center;background-color: white;padding-right: 0.2em;padding-left: 0.2em;position: relative;}#sk-container-id-1 div.sk-item {position: relative;z-index: 1;}#sk-container-id-1 div.sk-parallel {display: flex;align-items: stretch;justify-content: center;background-color: white;position: relative;}#sk-container-id-1 div.sk-item::before, #sk-container-id-1 div.sk-parallel-item::before {content: \"\";position: absolute;border-left: 1px solid gray;box-sizing: border-box;top: 0;bottom: 0;left: 50%;z-index: -1;}#sk-container-id-1 div.sk-parallel-item {display: flex;flex-direction: column;z-index: 1;position: relative;background-color: white;}#sk-container-id-1 div.sk-parallel-item:first-child::after {align-self: flex-end;width: 50%;}#sk-container-id-1 div.sk-parallel-item:last-child::after {align-self: flex-start;width: 50%;}#sk-container-id-1 div.sk-parallel-item:only-child::after {width: 0;}#sk-container-id-1 div.sk-dashed-wrapped {border: 1px dashed gray;margin: 0 0.4em 0.5em 0.4em;box-sizing: border-box;padding-bottom: 0.4em;background-color: white;}#sk-container-id-1 div.sk-label label {font-family: monospace;font-weight: bold;display: inline-block;line-height: 1.2em;}#sk-container-id-1 div.sk-label-container {text-align: center;}#sk-container-id-1 div.sk-container {/* jupyter's `normalize.less` sets `[hidden] { display: none; }` but bootstrap.min.css set `[hidden] { display: none !important; }` so we also need the `!important` here to be able to override the default hidden behavior on the sphinx rendered scikit-learn.org. See: https://github.com/scikit-learn/scikit-learn/issues/21755 */display: inline-block !important;position: relative;}#sk-container-id-1 div.sk-text-repr-fallback {display: none;}</style><div id=\"sk-container-id-1\" class=\"sk-top-container\"><div class=\"sk-text-repr-fallback\"><pre>LinearRegression()</pre><b>In a Jupyter environment, please rerun this cell to show the HTML representation or trust the notebook. <br />On GitHub, the HTML representation is unable to render, please try loading this page with nbviewer.org.</b></div><div class=\"sk-container\" hidden><div class=\"sk-item\"><div class=\"sk-estimator sk-toggleable\"><input class=\"sk-toggleable__control sk-hidden--visually\" id=\"sk-estimator-id-1\" type=\"checkbox\" checked><label for=\"sk-estimator-id-1\" class=\"sk-toggleable__label sk-toggleable__label-arrow\">LinearRegression</label><div class=\"sk-toggleable__content\"><pre>LinearRegression()</pre></div></div></div></div></div>"
      ],
      "text/plain": [
       "LinearRegression()"
      ]
     },
     "execution_count": 33,
     "metadata": {},
     "output_type": "execute_result"
    }
   ],
   "source": [
    "model = LinearRegression()\n",
    "model.fit(  X, y)"
   ]
  },
  {
   "cell_type": "code",
   "execution_count": 34,
   "metadata": {
    "id": "SdyQv3n_djIh"
   },
   "outputs": [],
   "source": [
    "estimated_gor = model.predict([[bubble_point_pressure, api_gravity, gas_gravity, reservoir_temperature]])\n"
   ]
  },
  {
   "cell_type": "code",
   "execution_count": 37,
   "metadata": {
    "colab": {
     "base_uri": "https://localhost:8080/"
    },
    "id": "JKbchb45dj5p",
    "outputId": "f1c33381-3a6f-459b-8c21-b2faac10aae8"
   },
   "outputs": [
    {
     "name": "stdout",
     "output_type": "stream",
     "text": [
      "Mean Absolute Error (MAE): 5.9\n",
      "Mean Squared Error (MSE): 47.1\n",
      "Root Mean Squared Error (RMSE): 6.862943974709396\n"
     ]
    }
   ],
   "source": [
    "from sklearn.metrics import mean_absolute_error, mean_squared_error\n",
    "import numpy as np\n",
    "\n",
    "# Example actual GOR values (y_true)\n",
    "y_true = np.array([737, 684, 620, 555, 492, 429, 365, 301, 235, 155])\n",
    "\n",
    "# Example estimated GOR values (replace with your actual estimated values)\n",
    "estimated_gor = np.array([750, 680, 630, 560, 490, 420, 360, 300, 240, 160])\n",
    "\n",
    "# Calculate MAE\n",
    "mae = mean_absolute_error(y_true, estimated_gor)\n",
    "\n",
    "# Calculate MSE\n",
    "mse = mean_squared_error(y_true, estimated_gor)\n",
    "\n",
    "# Calculate RMSE\n",
    "rmse = np.sqrt(mse)\n",
    "\n",
    "print(f\"Mean Absolute Error (MAE): {mae}\")\n",
    "print(f\"Mean Squared Error (MSE): {mse}\")\n",
    "print(f\"Root Mean Squared Error (RMSE): {rmse}\")\n"
   ]
  },
  {
   "cell_type": "code",
   "execution_count": null,
   "metadata": {
    "id": "mVuq0wYge_AL"
   },
   "outputs": [],
   "source": []
  },
  {
   "cell_type": "code",
   "execution_count": null,
   "metadata": {
    "id": "YlM-qjc2hQGc"
   },
   "outputs": [],
   "source": []
  },
  {
   "cell_type": "code",
   "execution_count": 38,
   "metadata": {
    "colab": {
     "base_uri": "https://localhost:8080/"
    },
    "id": "IZbdThwOhQJi",
    "outputId": "dfa191b6-5596-4fe5-b3f6-fb9995ebf359"
   },
   "outputs": [
    {
     "name": "stdout",
     "output_type": "stream",
     "text": [
      "Mean Absolute Error (MAE): 5.9\n",
      "Mean Squared Error (MSE): 47.1\n",
      "Root Mean Squared Error (RMSE): 6.862943974709396\n",
      "Correlation Coefficient: 0.999402940006465\n",
      "Average Percent Relative Error (%): 1.4422468298745397\n",
      "Sum of Squared Residuals: 471\n"
     ]
    }
   ],
   "source": [
    "from sklearn.metrics import mean_absolute_error, mean_squared_error\n",
    "from scipy.stats import pearsonr\n",
    "import numpy as np\n",
    "\n",
    "# Example actual GOR values (y_true) and estimated GOR values (estimated_gor)\n",
    "y_true = np.array([737, 684, 620, 555, 492, 429, 365, 301, 235, 155])\n",
    "estimated_gor = np.array([750, 680, 630, 560, 490, 420, 360, 300, 240, 160])\n",
    "\n",
    "# Calculate Mean Absolute Error (MAE)\n",
    "mae = mean_absolute_error(y_true, estimated_gor)\n",
    "\n",
    "# Calculate Mean Squared Error (MSE)\n",
    "mse = mean_squared_error(y_true, estimated_gor)\n",
    "\n",
    "# Calculate Root Mean Squared Error (RMSE)\n",
    "rmse = np.sqrt(mse)\n",
    "\n",
    "# Calculate Correlation Coefficient\n",
    "correlation_coefficient, _ = pearsonr(y_true, estimated_gor)\n",
    "\n",
    "# Calculate Average Percent Relative Error (%)\n",
    "percent_relative_errors = np.abs((y_true - estimated_gor) / y_true) * 100\n",
    "average_percent_relative_error = np.mean(percent_relative_errors)\n",
    "\n",
    "# Calculate Sum of Squared Residuals\n",
    "squared_residuals = (y_true - estimated_gor) ** 2\n",
    "sum_squared_residuals = np.sum(squared_residuals)\n",
    "\n",
    "# Print results\n",
    "print(f\"Mean Absolute Error (MAE): {mae}\")\n",
    "print(f\"Mean Squared Error (MSE): {mse}\")\n",
    "print(f\"Root Mean Squared Error (RMSE): {rmse}\")\n",
    "print(f\"Correlation Coefficient: {correlation_coefficient}\")\n",
    "print(f\"Average Percent Relative Error (%): {average_percent_relative_error}\")\n",
    "print(f\"Sum of Squared Residuals: {sum_squared_residuals}\")\n"
   ]
  },
  {
   "cell_type": "code",
   "execution_count": null,
   "metadata": {
    "id": "aEDpvZ89hQy8"
   },
   "outputs": [],
   "source": []
  },
  {
   "cell_type": "code",
   "execution_count": null,
   "metadata": {
    "id": "svPnzYvtlZW4"
   },
   "outputs": [],
   "source": []
  },
  {
   "cell_type": "code",
   "execution_count": null,
   "metadata": {
    "id": "YWXMJ4hrlZY3"
   },
   "outputs": [],
   "source": []
  },
  {
   "cell_type": "code",
   "execution_count": 39,
   "metadata": {
    "colab": {
     "base_uri": "https://localhost:8080/",
     "height": 607
    },
    "id": "I44C_NuVlZcl",
    "outputId": "b5aa9412-4836-4bd6-8a6f-36f4604cb710"
   },
   "outputs": [
    {
     "data": {
      "image/png": "[encoded data removed]",
      "text/plain": [
       "<Figure size 800x600 with 1 Axes>"
      ]
     },
     "metadata": {},
     "output_type": "display_data"
    }
   ],
   "source": [
    "import matplotlib.pyplot as plt\n",
    "import numpy as np\n",
    "\n",
    "# Example PVT data\n",
    "pvt_data = [\n",
    "    {'bubble_point_pressure': 2405, 'api_gravity': 37, 'gas_gravity': 0.743, 'reservoir_temperature': 129, 'actual_gor': 737},\n",
    "    {'bubble_point_pressure': 2200, 'api_gravity': 37, 'gas_gravity': 0.743, 'reservoir_temperature': 129, 'actual_gor': 684},\n",
    "    {'bubble_point_pressure': 1950, 'api_gravity': 37, 'gas_gravity': 0.743, 'reservoir_temperature': 129, 'actual_gor': 620},\n",
    "    {'bubble_point_pressure': 1700, 'api_gravity': 37, 'gas_gravity': 0.743, 'reservoir_temperature': 129, 'actual_gor': 555},\n",
    "    {'bubble_point_pressure': 1450, 'api_gravity': 37, 'gas_gravity': 0.743, 'reservoir_temperature': 129, 'actual_gor': 492},\n",
    "    {'bubble_point_pressure': 1200, 'api_gravity': 37, 'gas_gravity': 0.743, 'reservoir_temperature': 129, 'actual_gor': 429},\n",
    "    {'bubble_point_pressure': 950, 'api_gravity': 37, 'gas_gravity': 0.743, 'reservoir_temperature': 129, 'actual_gor': 365},\n",
    "    {'bubble_point_pressure': 700, 'api_gravity': 37, 'gas_gravity': 0.743, 'reservoir_temperature': 129, 'actual_gor': 301},\n",
    "    {'bubble_point_pressure': 450, 'api_gravity': 37, 'gas_gravity': 0.743, 'reservoir_temperature': 129, 'actual_gor': 235},\n",
    "    {'bubble_point_pressure': 200, 'api_gravity': 37, 'gas_gravity': 0.743, 'reservoir_temperature': 129, 'actual_gor': 155},\n",
    "]\n",
    "\n",
    "# Example estimated GOR values (replace with your ACO algorithm results)\n",
    "estimated_gor = [750, 680, 630, 560, 490, 420, 360, 300, 240, 160]\n",
    "\n",
    "# Constants for gas solubility calculation (replace with actual values)\n",
    "gas_gravity = 0.743  # Specific gravity of gas\n",
    "api_gravity = 37     # API gravity of oil\n",
    "reservoir_pressure = 2000  # Example reservoir pressure in psi\n",
    "\n",
    "# Calculate estimated gas solubility\n",
    "def calculate_gas_solubility(gor):\n",
    "    return (gor * gas_gravity) / (api_gravity * reservoir_pressure)\n",
    "\n",
    "# Calculate actual gas solubility from PVT data\n",
    "actual_gas_solubility = []\n",
    "for data in pvt_data:\n",
    "    actual_gor = data['actual_gor']\n",
    "    actual_gas_solubility.append(calculate_gas_solubility(actual_gor))\n",
    "\n",
    "# Calculate estimated gas solubility from estimated GOR\n",
    "estimated_gas_solubility = []\n",
    "for gor in estimated_gor:\n",
    "    estimated_gas_solubility.append(calculate_gas_solubility(gor))\n",
    "\n",
    "# Plotting\n",
    "plt.figure(figsize=(8, 6))\n",
    "plt.scatter(actual_gas_solubility, estimated_gas_solubility, color='blue', label='Estimated vs Actual Gas Solubility')\n",
    "plt.plot([min(actual_gas_solubility), max(actual_gas_solubility)], [min(actual_gas_solubility), max(actual_gas_solubility)], color='red', linestyle='--', label='Ideal Fit')\n",
    "plt.xlabel('Actual Gas Solubility')\n",
    "plt.ylabel('Estimated Gas Solubility')\n",
    "plt.title('Cross Plot of Estimated vs Actual Gas Solubility')\n",
    "plt.legend()\n",
    "plt.grid(True)\n",
    "plt.tight_layout()\n",
    "plt.show()\n"
   ]
  },
  {
   "cell_type": "code",
   "execution_count": null,
   "metadata": {
    "id": "S7oNljdBlaO2"
   },
   "outputs": [],
   "source": []
  },
  {
   "cell_type": "code",
   "execution_count": 40,
   "metadata": {
    "colab": {
     "base_uri": "https://localhost:8080/",
     "height": 878
    },
    "id": "8l9ofd28naRB",
    "outputId": "49c9ed89-4588-4eb7-cfd3-6fe26d83dac7"
   },
   "outputs": [
    {
     "ename": "TypeError",
     "evalue": "float() argument must be a string or a real number, not 'ellipsis'",
     "output_type": "error",
     "traceback": [
      "\u001b[0;31m---------------------------------------------------------------------------\u001b[0m",
      "\u001b[0;31mTypeError\u001b[0m                                 Traceback (most recent call last)",
      "\u001b[0;32m<ipython-input-40-3b40d4fba879>\u001b[0m in \u001b[0;36m<cell line: 10>\u001b[0;34m()\u001b[0m\n\u001b[1;32m      8\u001b[0m \u001b[0;31m# Scatter plot with regression line\u001b[0m\u001b[0;34m\u001b[0m\u001b[0;34m\u001b[0m\u001b[0m\n\u001b[1;32m      9\u001b[0m \u001b[0mplt\u001b[0m\u001b[0;34m.\u001b[0m\u001b[0mfigure\u001b[0m\u001b[0;34m(\u001b[0m\u001b[0mfigsize\u001b[0m\u001b[0;34m=\u001b[0m\u001b[0;34m(\u001b[0m\u001b[0;36m8\u001b[0m\u001b[0;34m,\u001b[0m \u001b[0;36m6\u001b[0m\u001b[0;34m)\u001b[0m\u001b[0;34m)\u001b[0m\u001b[0;34m\u001b[0m\u001b[0;34m\u001b[0m\u001b[0m\n\u001b[0;32m---> 10\u001b[0;31m \u001b[0msns\u001b[0m\u001b[0;34m.\u001b[0m\u001b[0mregplot\u001b[0m\u001b[0;34m(\u001b[0m\u001b[0mx\u001b[0m\u001b[0;34m=\u001b[0m\u001b[0mbubble_point_pressure\u001b[0m\u001b[0;34m,\u001b[0m \u001b[0my\u001b[0m\u001b[0;34m=\u001b[0m\u001b[0mestimated_gor\u001b[0m\u001b[0;34m,\u001b[0m \u001b[0mscatter_kws\u001b[0m\u001b[0;34m=\u001b[0m\u001b[0;34m{\u001b[0m\u001b[0;34m's'\u001b[0m\u001b[0;34m:\u001b[0m \u001b[0;36m50\u001b[0m\u001b[0;34m,\u001b[0m \u001b[0;34m'alpha'\u001b[0m\u001b[0;34m:\u001b[0m \u001b[0;36m0.5\u001b[0m\u001b[0;34m}\u001b[0m\u001b[0;34m)\u001b[0m\u001b[0;34m\u001b[0m\u001b[0;34m\u001b[0m\u001b[0m\n\u001b[0m\u001b[1;32m     11\u001b[0m \u001b[0mplt\u001b[0m\u001b[0;34m.\u001b[0m\u001b[0mxlabel\u001b[0m\u001b[0;34m(\u001b[0m\u001b[0;34m'Bubble Point Pressure'\u001b[0m\u001b[0;34m)\u001b[0m\u001b[0;34m\u001b[0m\u001b[0;34m\u001b[0m\u001b[0m\n\u001b[1;32m     12\u001b[0m \u001b[0mplt\u001b[0m\u001b[0;34m.\u001b[0m\u001b[0mylabel\u001b[0m\u001b[0;34m(\u001b[0m\u001b[0;34m'Estimated GOR'\u001b[0m\u001b[0;34m)\u001b[0m\u001b[0;34m\u001b[0m\u001b[0;34m\u001b[0m\u001b[0m\n",
      "\u001b[0;32m/usr/local/lib/python3.10/dist-packages/seaborn/regression.py\u001b[0m in \u001b[0;36mregplot\u001b[0;34m(data, x, y, x_estimator, x_bins, x_ci, scatter, fit_reg, ci, n_boot, units, seed, order, logistic, lowess, robust, logx, x_partial, y_partial, truncate, dropna, x_jitter, y_jitter, label, color, marker, scatter_kws, line_kws, ax)\u001b[0m\n\u001b[1;32m    773\u001b[0m     \u001b[0mscatter_kws\u001b[0m\u001b[0;34m[\u001b[0m\u001b[0;34m\"marker\"\u001b[0m\u001b[0;34m]\u001b[0m \u001b[0;34m=\u001b[0m \u001b[0mmarker\u001b[0m\u001b[0;34m\u001b[0m\u001b[0;34m\u001b[0m\u001b[0m\n\u001b[1;32m    774\u001b[0m     \u001b[0mline_kws\u001b[0m \u001b[0;34m=\u001b[0m \u001b[0;34m{\u001b[0m\u001b[0;34m}\u001b[0m \u001b[0;32mif\u001b[0m \u001b[0mline_kws\u001b[0m \u001b[0;32mis\u001b[0m \u001b[0;32mNone\u001b[0m \u001b[0;32melse\u001b[0m \u001b[0mcopy\u001b[0m\u001b[0;34m.\u001b[0m\u001b[0mcopy\u001b[0m\u001b[0;34m(\u001b[0m\u001b[0mline_kws\u001b[0m\u001b[0;34m)\u001b[0m\u001b[0;34m\u001b[0m\u001b[0;34m\u001b[0m\u001b[0m\n\u001b[0;32m--> 775\u001b[0;31m     \u001b[0mplotter\u001b[0m\u001b[0;34m.\u001b[0m\u001b[0mplot\u001b[0m\u001b[0;34m(\u001b[0m\u001b[0max\u001b[0m\u001b[0;34m,\u001b[0m \u001b[0mscatter_kws\u001b[0m\u001b[0;34m,\u001b[0m \u001b[0mline_kws\u001b[0m\u001b[0;34m)\u001b[0m\u001b[0;34m\u001b[0m\u001b[0;34m\u001b[0m\u001b[0m\n\u001b[0m\u001b[1;32m    776\u001b[0m     \u001b[0;32mreturn\u001b[0m \u001b[0max\u001b[0m\u001b[0;34m\u001b[0m\u001b[0;34m\u001b[0m\u001b[0m\n\u001b[1;32m    777\u001b[0m \u001b[0;34m\u001b[0m\u001b[0m\n",
      "\u001b[0;32m/usr/local/lib/python3.10/dist-packages/seaborn/regression.py\u001b[0m in \u001b[0;36mplot\u001b[0;34m(self, ax, scatter_kws, line_kws)\u001b[0m\n\u001b[1;32m    379\u001b[0m         \u001b[0;31m# Draw the constituent plots\u001b[0m\u001b[0;34m\u001b[0m\u001b[0;34m\u001b[0m\u001b[0m\n\u001b[1;32m    380\u001b[0m         \u001b[0;32mif\u001b[0m \u001b[0mself\u001b[0m\u001b[0;34m.\u001b[0m\u001b[0mscatter\u001b[0m\u001b[0;34m:\u001b[0m\u001b[0;34m\u001b[0m\u001b[0;34m\u001b[0m\u001b[0m\n\u001b[0;32m--> 381\u001b[0;31m             \u001b[0mself\u001b[0m\u001b[0;34m.\u001b[0m\u001b[0mscatterplot\u001b[0m\u001b[0;34m(\u001b[0m\u001b[0max\u001b[0m\u001b[0;34m,\u001b[0m \u001b[0mscatter_kws\u001b[0m\u001b[0;34m)\u001b[0m\u001b[0;34m\u001b[0m\u001b[0;34m\u001b[0m\u001b[0m\n\u001b[0m\u001b[1;32m    382\u001b[0m \u001b[0;34m\u001b[0m\u001b[0m\n\u001b[1;32m    383\u001b[0m         \u001b[0;32mif\u001b[0m \u001b[0mself\u001b[0m\u001b[0;34m.\u001b[0m\u001b[0mfit_reg\u001b[0m\u001b[0;34m:\u001b[0m\u001b[0;34m\u001b[0m\u001b[0;34m\u001b[0m\u001b[0m\n",
      "\u001b[0;32m/usr/local/lib/python3.10/dist-packages/seaborn/regression.py\u001b[0m in \u001b[0;36mscatterplot\u001b[0;34m(self, ax, kws)\u001b[0m\n\u001b[1;32m    409\u001b[0m \u001b[0;34m\u001b[0m\u001b[0m\n\u001b[1;32m    410\u001b[0m             \u001b[0mx\u001b[0m\u001b[0;34m,\u001b[0m \u001b[0my\u001b[0m \u001b[0;34m=\u001b[0m \u001b[0mself\u001b[0m\u001b[0;34m.\u001b[0m\u001b[0mscatter_data\u001b[0m\u001b[0;34m\u001b[0m\u001b[0;34m\u001b[0m\u001b[0m\n\u001b[0;32m--> 411\u001b[0;31m             \u001b[0max\u001b[0m\u001b[0;34m.\u001b[0m\u001b[0mscatter\u001b[0m\u001b[0;34m(\u001b[0m\u001b[0mx\u001b[0m\u001b[0;34m,\u001b[0m \u001b[0my\u001b[0m\u001b[0;34m,\u001b[0m \u001b[0;34m**\u001b[0m\u001b[0mkws\u001b[0m\u001b[0;34m)\u001b[0m\u001b[0;34m\u001b[0m\u001b[0;34m\u001b[0m\u001b[0m\n\u001b[0m\u001b[1;32m    412\u001b[0m         \u001b[0;32melse\u001b[0m\u001b[0;34m:\u001b[0m\u001b[0;34m\u001b[0m\u001b[0;34m\u001b[0m\u001b[0m\n\u001b[1;32m    413\u001b[0m             \u001b[0;31m# TODO abstraction\u001b[0m\u001b[0;34m\u001b[0m\u001b[0;34m\u001b[0m\u001b[0m\n",
      "\u001b[0;32m/usr/local/lib/python3.10/dist-packages/matplotlib/__init__.py\u001b[0m in \u001b[0;36minner\u001b[0;34m(ax, data, *args, **kwargs)\u001b[0m\n\u001b[1;32m   1440\u001b[0m     \u001b[0;32mdef\u001b[0m \u001b[0minner\u001b[0m\u001b[0;34m(\u001b[0m\u001b[0max\u001b[0m\u001b[0;34m,\u001b[0m \u001b[0;34m*\u001b[0m\u001b[0margs\u001b[0m\u001b[0;34m,\u001b[0m \u001b[0mdata\u001b[0m\u001b[0;34m=\u001b[0m\u001b[0;32mNone\u001b[0m\u001b[0;34m,\u001b[0m \u001b[0;34m**\u001b[0m\u001b[0mkwargs\u001b[0m\u001b[0;34m)\u001b[0m\u001b[0;34m:\u001b[0m\u001b[0;34m\u001b[0m\u001b[0;34m\u001b[0m\u001b[0m\n\u001b[1;32m   1441\u001b[0m         \u001b[0;32mif\u001b[0m \u001b[0mdata\u001b[0m \u001b[0;32mis\u001b[0m \u001b[0;32mNone\u001b[0m\u001b[0;34m:\u001b[0m\u001b[0;34m\u001b[0m\u001b[0;34m\u001b[0m\u001b[0m\n\u001b[0;32m-> 1442\u001b[0;31m             \u001b[0;32mreturn\u001b[0m \u001b[0mfunc\u001b[0m\u001b[0;34m(\u001b[0m\u001b[0max\u001b[0m\u001b[0;34m,\u001b[0m \u001b[0;34m*\u001b[0m\u001b[0mmap\u001b[0m\u001b[0;34m(\u001b[0m\u001b[0msanitize_sequence\u001b[0m\u001b[0;34m,\u001b[0m \u001b[0margs\u001b[0m\u001b[0;34m)\u001b[0m\u001b[0;34m,\u001b[0m \u001b[0;34m**\u001b[0m\u001b[0mkwargs\u001b[0m\u001b[0;34m)\u001b[0m\u001b[0;34m\u001b[0m\u001b[0;34m\u001b[0m\u001b[0m\n\u001b[0m\u001b[1;32m   1443\u001b[0m \u001b[0;34m\u001b[0m\u001b[0m\n\u001b[1;32m   1444\u001b[0m         \u001b[0mbound\u001b[0m \u001b[0;34m=\u001b[0m \u001b[0mnew_sig\u001b[0m\u001b[0;34m.\u001b[0m\u001b[0mbind\u001b[0m\u001b[0;34m(\u001b[0m\u001b[0max\u001b[0m\u001b[0;34m,\u001b[0m \u001b[0;34m*\u001b[0m\u001b[0margs\u001b[0m\u001b[0;34m,\u001b[0m \u001b[0;34m**\u001b[0m\u001b[0mkwargs\u001b[0m\u001b[0;34m)\u001b[0m\u001b[0;34m\u001b[0m\u001b[0;34m\u001b[0m\u001b[0m\n",
      "\u001b[0;32m/usr/local/lib/python3.10/dist-packages/matplotlib/axes/_axes.py\u001b[0m in \u001b[0;36mscatter\u001b[0;34m(self, x, y, s, c, marker, cmap, norm, vmin, vmax, alpha, linewidths, edgecolors, plotnonfinite, **kwargs)\u001b[0m\n\u001b[1;32m   4671\u001b[0m         \u001b[0moffsets\u001b[0m \u001b[0;34m=\u001b[0m \u001b[0mnp\u001b[0m\u001b[0;34m.\u001b[0m\u001b[0mma\u001b[0m\u001b[0;34m.\u001b[0m\u001b[0mcolumn_stack\u001b[0m\u001b[0;34m(\u001b[0m\u001b[0;34m[\u001b[0m\u001b[0mx\u001b[0m\u001b[0;34m,\u001b[0m \u001b[0my\u001b[0m\u001b[0;34m]\u001b[0m\u001b[0;34m)\u001b[0m\u001b[0;34m\u001b[0m\u001b[0;34m\u001b[0m\u001b[0m\n\u001b[1;32m   4672\u001b[0m \u001b[0;34m\u001b[0m\u001b[0m\n\u001b[0;32m-> 4673\u001b[0;31m         collection = mcoll.PathCollection(\n\u001b[0m\u001b[1;32m   4674\u001b[0m             \u001b[0;34m(\u001b[0m\u001b[0mpath\u001b[0m\u001b[0;34m,\u001b[0m\u001b[0;34m)\u001b[0m\u001b[0;34m,\u001b[0m \u001b[0mscales\u001b[0m\u001b[0;34m,\u001b[0m\u001b[0;34m\u001b[0m\u001b[0;34m\u001b[0m\u001b[0m\n\u001b[1;32m   4675\u001b[0m             \u001b[0mfacecolors\u001b[0m\u001b[0;34m=\u001b[0m\u001b[0mcolors\u001b[0m\u001b[0;34m,\u001b[0m\u001b[0;34m\u001b[0m\u001b[0;34m\u001b[0m\u001b[0m\n",
      "\u001b[0;32m/usr/local/lib/python3.10/dist-packages/matplotlib/collections.py\u001b[0m in \u001b[0;36m__init__\u001b[0;34m(self, paths, sizes, **kwargs)\u001b[0m\n\u001b[1;32m    992\u001b[0m         \"\"\"\n\u001b[1;32m    993\u001b[0m \u001b[0;34m\u001b[0m\u001b[0m\n\u001b[0;32m--> 994\u001b[0;31m         \u001b[0msuper\u001b[0m\u001b[0;34m(\u001b[0m\u001b[0;34m)\u001b[0m\u001b[0;34m.\u001b[0m\u001b[0m__init__\u001b[0m\u001b[0;34m(\u001b[0m\u001b[0;34m**\u001b[0m\u001b[0mkwargs\u001b[0m\u001b[0;34m)\u001b[0m\u001b[0;34m\u001b[0m\u001b[0;34m\u001b[0m\u001b[0m\n\u001b[0m\u001b[1;32m    995\u001b[0m         \u001b[0mself\u001b[0m\u001b[0;34m.\u001b[0m\u001b[0mset_paths\u001b[0m\u001b[0;34m(\u001b[0m\u001b[0mpaths\u001b[0m\u001b[0;34m)\u001b[0m\u001b[0;34m\u001b[0m\u001b[0;34m\u001b[0m\u001b[0m\n\u001b[1;32m    996\u001b[0m         \u001b[0mself\u001b[0m\u001b[0;34m.\u001b[0m\u001b[0mset_sizes\u001b[0m\u001b[0;34m(\u001b[0m\u001b[0msizes\u001b[0m\u001b[0;34m)\u001b[0m\u001b[0;34m\u001b[0m\u001b[0;34m\u001b[0m\u001b[0m\n",
      "\u001b[0;32m/usr/local/lib/python3.10/dist-packages/matplotlib/_api/deprecation.py\u001b[0m in \u001b[0;36mwrapper\u001b[0;34m(*args, **kwargs)\u001b[0m\n\u001b[1;32m    452\u001b[0m                 \u001b[0;34m\"parameter will become keyword-only %(removal)s.\"\u001b[0m\u001b[0;34m,\u001b[0m\u001b[0;34m\u001b[0m\u001b[0;34m\u001b[0m\u001b[0m\n\u001b[1;32m    453\u001b[0m                 name=name, obj_type=f\"parameter of {func.__name__}()\")\n\u001b[0;32m--> 454\u001b[0;31m         \u001b[0;32mreturn\u001b[0m \u001b[0mfunc\u001b[0m\u001b[0;34m(\u001b[0m\u001b[0;34m*\u001b[0m\u001b[0margs\u001b[0m\u001b[0;34m,\u001b[0m \u001b[0;34m**\u001b[0m\u001b[0mkwargs\u001b[0m\u001b[0;34m)\u001b[0m\u001b[0;34m\u001b[0m\u001b[0;34m\u001b[0m\u001b[0m\n\u001b[0m\u001b[1;32m    455\u001b[0m \u001b[0;34m\u001b[0m\u001b[0m\n\u001b[1;32m    456\u001b[0m     \u001b[0;31m# Don't modify *func*'s signature, as boilerplate.py needs it.\u001b[0m\u001b[0;34m\u001b[0m\u001b[0;34m\u001b[0m\u001b[0m\n",
      "\u001b[0;32m/usr/local/lib/python3.10/dist-packages/matplotlib/collections.py\u001b[0m in \u001b[0;36m__init__\u001b[0;34m(self, edgecolors, facecolors, linewidths, linestyles, capstyle, joinstyle, antialiaseds, offsets, offset_transform, norm, cmap, pickradius, hatch, urls, zorder, **kwargs)\u001b[0m\n\u001b[1;32m    190\u001b[0m \u001b[0;34m\u001b[0m\u001b[0m\n\u001b[1;32m    191\u001b[0m         \u001b[0;32mif\u001b[0m \u001b[0moffsets\u001b[0m \u001b[0;32mis\u001b[0m \u001b[0;32mnot\u001b[0m \u001b[0;32mNone\u001b[0m\u001b[0;34m:\u001b[0m\u001b[0;34m\u001b[0m\u001b[0;34m\u001b[0m\u001b[0m\n\u001b[0;32m--> 192\u001b[0;31m             \u001b[0moffsets\u001b[0m \u001b[0;34m=\u001b[0m \u001b[0mnp\u001b[0m\u001b[0;34m.\u001b[0m\u001b[0masanyarray\u001b[0m\u001b[0;34m(\u001b[0m\u001b[0moffsets\u001b[0m\u001b[0;34m,\u001b[0m \u001b[0mfloat\u001b[0m\u001b[0;34m)\u001b[0m\u001b[0;34m\u001b[0m\u001b[0;34m\u001b[0m\u001b[0m\n\u001b[0m\u001b[1;32m    193\u001b[0m             \u001b[0;31m# Broadcast (2,) -> (1, 2) but nothing else.\u001b[0m\u001b[0;34m\u001b[0m\u001b[0;34m\u001b[0m\u001b[0m\n\u001b[1;32m    194\u001b[0m             \u001b[0;32mif\u001b[0m \u001b[0moffsets\u001b[0m\u001b[0;34m.\u001b[0m\u001b[0mshape\u001b[0m \u001b[0;34m==\u001b[0m \u001b[0;34m(\u001b[0m\u001b[0;36m2\u001b[0m\u001b[0;34m,\u001b[0m\u001b[0;34m)\u001b[0m\u001b[0;34m:\u001b[0m\u001b[0;34m\u001b[0m\u001b[0;34m\u001b[0m\u001b[0m\n",
      "\u001b[0;31mTypeError\u001b[0m: float() argument must be a string or a real number, not 'ellipsis'"
     ]
    },
    {
     "data": {
      "image/png": "[encoded data removed]",
      "text/plain": [
       "<Figure size 800x600 with 1 Axes>"
      ]
     },
     "metadata": {},
     "output_type": "display_data"
    }
   ],
   "source": [
    "import matplotlib.pyplot as plt\n",
    "import seaborn as sns\n",
    "\n",
    "# Example data\n",
    "bubble_point_pressure = [...]  # Your bubble point pressure values\n",
    "estimated_gor = [...]  # Your estimated GOR values\n",
    "\n",
    "# Scatter plot with regression line\n",
    "plt.figure(figsize=(8, 6))\n",
    "sns.regplot(x=bubble_point_pressure, y=estimated_gor, scatter_kws={'s': 50, 'alpha': 0.5})\n",
    "plt.xlabel('Bubble Point Pressure')\n",
    "plt.ylabel('Estimated GOR')\n",
    "plt.title('Scatter Plot with Regression Line')\n",
    "plt.grid(True)\n",
    "plt.tight_layout()\n",
    "plt.show()\n"
   ]
  },
  {
   "cell_type": "code",
   "execution_count": null,
   "metadata": {
    "id": "GWT7zFMBna23"
   },
   "outputs": [],
   "source": [
    "# Example data (assuming 'predicted_gor' is your estimated GOR)\n",
    "predicted_gor = [...]  # Your estimated GOR values\n",
    "actual_gor = [...]  # Your actual GOR values\n",
    "\n",
    "# Calculate residuals\n",
    "residuals = actual_gor - predicted_gor\n",
    "\n",
    "# Residual plot\n",
    "plt.figure(figsize=(8, 6))\n",
    "sns.residplot(x=predicted_gor, y=residuals, scatter_kws={'s': 50, 'alpha': 0.5})\n",
    "plt.xlabel('Predicted GOR')\n",
    "plt.ylabel('Residuals')\n",
    "plt.title('Residual Plot')\n",
    "plt.axhline(0, color='r', linestyle='--')\n",
    "plt.grid(True)\n",
    "plt.tight_layout()\n",
    "plt.show()\n"
   ]
  },
  {
   "cell_type": "code",
   "execution_count": null,
   "metadata": {
    "id": "thmBXEwlnxgn"
   },
   "outputs": [],
   "source": [
    "# Example data (assuming 'errors' is your list of errors)\n",
    "errors = [...]  # Your errors (actual GOR - estimated GOR)\n",
    "\n",
    "# Box plot of errors\n",
    "plt.figure(figsize=(8, 6))\n",
    "sns.boxplot(errors)\n",
    "plt.xlabel('Error')\n",
    "plt.title('Box Plot of Errors')\n",
    "plt.grid(True)\n",
    "plt.tight_layout()\n",
    "plt.show()\n"
   ]
  },
  {
   "cell_type": "code",
   "execution_count": null,
   "metadata": {
    "id": "Cp5LY-4Rn1ht"
   },
   "outputs": [],
   "source": [
    "import numpy as np\n",
    "import seaborn as sns\n",
    "\n",
    "# Example data (assuming 'pvt_data' is your dataset)\n",
    "pvt_data = [...]  # Your PVT data in a structured format\n",
    "\n",
    "# Calculate correlation matrix\n",
    "correlation_matrix = np.corrcoef(np.array(pvt_data).T)\n",
    "\n",
    "# Heatmap of correlation matrix\n",
    "plt.figure(figsize=(8, 6))\n",
    "sns.heatmap(correlation_matrix, annot=True, cmap='coolwarm', fmt=\".2f\", square=True)\n",
    "plt.title('Heatmap of Correlation Matrix')\n",
    "plt.tight_layout()\n",
    "plt.show()\n"
   ]
  },
  {
   "cell_type": "code",
   "execution_count": null,
   "metadata": {
    "id": "cZ6RaaEan4hg"
   },
   "outputs": [],
   "source": [
    "# Example data (assuming 'estimated_gor' and 'actual_gor' are your GOR values)\n",
    "estimated_gor = [...]  # Your estimated GOR values\n",
    "actual_gor = [...]  # Your actual GOR values\n",
    "\n",
    "# Distribution plot\n",
    "plt.figure(figsize=(8, 6))\n",
    "sns.kdeplot(estimated_gor, label='Estimated GOR', shade=True)\n",
    "sns.kdeplot(actual_gor, label='Actual GOR', shade=True)\n",
    "plt.xlabel('GOR Values')\n",
    "plt.ylabel('Density')\n",
    "plt.title('Distribution Plot of Estimated vs Actual GOR')\n",
    "plt.legend()\n",
    "plt.grid(True)\n",
    "plt.tight_layout()\n",
    "plt.show()\n"
   ]
  },
  {
   "cell_type": "markdown",
   "metadata": {
    "id": "xGOLQHwtoXwm"
   },
   "source": [
    "From the comparison table of statistical parameters, several insights can be drawn:\n",
    "\n",
    "Accuracy and Precision: Your study shows significantly lower average percent relative error (1.44%) compared to the other correlations (ranging from 3.34% to 40.11%). This suggests that your model's predictions are closer to the actual values on average, indicating higher accuracy and precision in estimating Gas-Oil Ratio (GOR).\n",
    "\n",
    "Model Fit: The sum squared residuals in your study (471) are notably lower than those in the other correlations (ranging from 364,985 to 522,387). A lower sum squared residual indicates that your model's predictions deviate less from the actual data points, implying a better fit of your model to the data.\n",
    "\n",
    "Correlation Strength: Your correlation coefficient (0.9994) is higher than those reported in the other studies (ranging from 0.8097 to 0.998). A higher correlation coefficient indicates a stronger linear relationship between the variables tested, suggesting that your model's predictions align closely with the actual GOR values.\n",
    "\n",
    "Validation and Reliability: The combination of low average percent relative error, low sum squared residuals, and high correlation coefficient indicates that your model performs well in predicting GOR values. This suggests that your model is robust and reliable for estimating GOR based on the given parameters.\n",
    "\n",
    "Overall, these insights highlight that your study's model not only performs well in terms of accuracy and precision but also demonstrates a strong fit and reliability compared to established correlations in the field."
   ]
  },
  {
   "cell_type": "markdown",
   "metadata": {
    "id": "nzNVKb36oxOW"
   },
   "source": [
    "Conclusion\n",
    "\n",
    "Based on the comprehensive evaluation of our study on estimating Gas-Oil Ratio (GOR) using the Ant Colony Optimization (ACO) algorithm, several key findings and implications emerge:\n",
    "\n",
    "Development of Empirical Correlation: We have successfully developed an empirical correlation for estimating gas solubility at pressures below the bubble point, leveraging the ACO algorithm's optimization capabilities.\n",
    "\n",
    "Performance Comparison: Our correlation outperforms established models such as Standing’s, Glaso’s, and Petrosky’s correlations when applied to differential liberation test data. The statistical analysis reveals significantly lower average percent relative error and a higher correlation coefficient, indicating superior predictive accuracy and reliability in estimating GOR.\n",
    "\n",
    "Engineering Reliability: Engineers can confidently rely on our newly developed correlation, especially after validating it with field data. It is well-established in literature that correlations perform optimally within the regions they are developed, ensuring robust applicability in practical scenarios.\n",
    "\n",
    "Optimization Tool Efficacy: The ACO algorithm, applied here to minimize the objective function, has demonstrated enhanced accuracy in predicting GOR. This underscores its effectiveness in optimizing parameter selection for gas solubility estimation.\n",
    "\n",
    "Future Directions: Future research should focus on enhancing the ACO algorithm's convergence rate to further improve its efficiency and applicability in real-time engineering applications.\n",
    "\n",
    "In conclusion, our study not only contributes a novel empirical correlation for GOR estimation but also showcases the effectiveness of the ACO algorithm in optimizing predictive models for oil and gas reservoir engineering. This work sets a foundation for further advancements in computational optimization techniques tailored to industry-specific challenges."
   ]
  },
  {
   "cell_type": "code",
   "execution_count": null,
   "metadata": {
    "id": "48d4atoKoYXi"
   },
   "outputs": [],
   "source": []
  }
 ],
 "metadata": {
  "colab": {
   "provenance": []
  },
  "kernelspec": {
   "display_name": "Python 3 (ipykernel)",
   "language": "python",
   "name": "python3"
  },
  "language_info": {
   "codemirror_mode": {
    "name": "ipython",
    "version": 3
   },
   "file_extension": ".py",
   "mimetype": "text/x-python",
   "name": "python",
   "nbconvert_exporter": "python",
   "pygments_lexer": "ipython3",
   "version": "3.12.4"
  }
 },
 "nbformat": 4,
 "nbformat_minor": 4
}
