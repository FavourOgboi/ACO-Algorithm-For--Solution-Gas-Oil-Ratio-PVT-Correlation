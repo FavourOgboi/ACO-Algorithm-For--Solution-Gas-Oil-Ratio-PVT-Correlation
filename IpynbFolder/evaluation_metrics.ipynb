{
 "cells": [
  {
   "cell_type": "markdown",
   "metadata": {},
   "source": [
    "# Evaluation_Metrics"
   ]
  },
  {
   "cell_type": "code",
   "execution_count": 86,
   "metadata": {
    "colab": {
     "base_uri": "https://localhost:8080/"
    },
    "id": "hjWGEyY7eQhq",
    "outputId": "85cc08db-696d-4f20-bfd3-328c9a894df0"
   },
   "outputs": [
    {
     "name": "stdout",
     "output_type": "stream",
     "text": [
      "Input matrix (X):\n",
      "[[2.405e+03 3.700e+01 7.430e-01 1.290e+02]\n",
      " [2.200e+03 3.700e+01 7.430e-01 1.290e+02]\n",
      " [1.950e+03 3.700e+01 7.430e-01 1.290e+02]\n",
      " [1.700e+03 3.700e+01 7.430e-01 1.290e+02]\n",
      " [1.450e+03 3.700e+01 7.430e-01 1.290e+02]\n",
      " [1.200e+03 3.700e+01 7.430e-01 1.290e+02]\n",
      " [9.500e+02 3.700e+01 7.430e-01 1.290e+02]\n",
      " [7.000e+02 3.700e+01 7.430e-01 1.290e+02]\n",
      " [4.500e+02 3.700e+01 7.430e-01 1.290e+02]\n",
      " [2.000e+02 3.700e+01 7.430e-01 1.290e+02]]\n"
     ]
    }
   ],
   "source": [
    "import numpy as np\n",
    "from pvt_Data.pvt_data import pvt_data\n",
    "\n",
    "# data.py\n",
    "pvt_data = [\n",
    "    {'bubble_point_pressure': 2405, 'api_gravity': 37, 'gas_gravity': 0.743, 'reservoir_temperature': 129, 'actual_gor': 737},\n",
    "    {'bubble_point_pressure': 2200, 'api_gravity': 37, 'gas_gravity': 0.743, 'reservoir_temperature': 129, 'actual_gor': 684},\n",
    "    {'bubble_point_pressure': 1950, 'api_gravity': 37, 'gas_gravity': 0.743, 'reservoir_temperature': 129, 'actual_gor': 620},\n",
    "    {'bubble_point_pressure': 1700, 'api_gravity': 37, 'gas_gravity': 0.743, 'reservoir_temperature': 129, 'actual_gor': 555},\n",
    "    {'bubble_point_pressure': 1450, 'api_gravity': 37, 'gas_gravity': 0.743, 'reservoir_temperature': 129, 'actual_gor': 492},\n",
    "    {'bubble_point_pressure': 1200, 'api_gravity': 37, 'gas_gravity': 0.743, 'reservoir_temperature': 129, 'actual_gor': 429},\n",
    "    {'bubble_point_pressure': 950, 'api_gravity': 37, 'gas_gravity': 0.743, 'reservoir_temperature': 129, 'actual_gor': 365},\n",
    "    {'bubble_point_pressure': 700, 'api_gravity': 37, 'gas_gravity': 0.743, 'reservoir_temperature': 129, 'actual_gor': 301},\n",
    "    {'bubble_point_pressure': 450, 'api_gravity': 37, 'gas_gravity': 0.743, 'reservoir_temperature': 129, 'actual_gor': 235},\n",
    "    {'bubble_point_pressure': 200, 'api_gravity': 37, 'gas_gravity': 0.743, 'reservoir_temperature': 129, 'actual_gor': 155},\n",
    "]\n",
    "\n",
    "\n",
    "# an empty list to store rows of X\n",
    "X_list = []\n",
    "\n",
    "# Iterate through each dictionary in pvt_data\n",
    "for data in pvt_data:\n",
    "    \n",
    "    # Extracting relevant values and append as a list to X_list\n",
    "    row = [\n",
    "        data['bubble_point_pressure'],\n",
    "        data['api_gravity'],\n",
    "        data['gas_gravity'],\n",
    "        data['reservoir_temperature']\n",
    "    ]\n",
    "    \n",
    "    X_list.append(row)\n",
    "\n",
    "# Convert X_list into a NumPy array\n",
    "X = np.array(X_list)\n",
    "\n",
    "print(\"Input matrix (X):\")\n",
    "print(X)"
   ]
  },
  {
   "cell_type": "code",
   "execution_count": 88,
   "metadata": {
    "colab": {
     "base_uri": "https://localhost:8080/"
    },
    "id": "5GSnpAImee73",
    "outputId": "2732471d-1afa-441b-f9af-883f67d65946"
   },
   "outputs": [
    {
     "name": "stdout",
     "output_type": "stream",
     "text": [
      "\n",
      "Target variable (y):\n",
      "[737 684 620 555 492 429 365 301 235 155]\n"
     ]
    }
   ],
   "source": [
    "# Initializing an empty list to store y values\n",
    "y_list = []\n",
    "\n",
    "# Iterating through each dictionary in pvt_data to extract 'actual_gor'\n",
    "for data in pvt_data:\n",
    "    y_list.append(data['actual_gor'])\n",
    "\n",
    "# Converting y_list into a NumPy array\n",
    "y = np.array(y_list)\n",
    "\n",
    "print(\"\\nTarget variable (y):\")\n",
    "print(y)"
   ]
  },
  {
   "cell_type": "code",
   "execution_count": 90,
   "metadata": {
    "colab": {
     "base_uri": "https://localhost:8080/",
     "height": 74
    },
    "id": "G8HNtBHDdedV",
    "outputId": "fa15df1b-3fea-4d2f-e2b9-68bb7119c2cd"
   },
   "outputs": [
    {
     "data": {
      "text/html": [
       "<style>#sk-container-id-2 {\n",
       "  /* Definition of color scheme common for light and dark mode */\n",
       "  --sklearn-color-text: black;\n",
       "  --sklearn-color-line: gray;\n",
       "  /* Definition of color scheme for unfitted estimators */\n",
       "  --sklearn-color-unfitted-level-0: #fff5e6;\n",
       "  --sklearn-color-unfitted-level-1: #f6e4d2;\n",
       "  --sklearn-color-unfitted-level-2: #ffe0b3;\n",
       "  --sklearn-color-unfitted-level-3: chocolate;\n",
       "  /* Definition of color scheme for fitted estimators */\n",
       "  --sklearn-color-fitted-level-0: #f0f8ff;\n",
       "  --sklearn-color-fitted-level-1: #d4ebff;\n",
       "  --sklearn-color-fitted-level-2: #b3dbfd;\n",
       "  --sklearn-color-fitted-level-3: cornflowerblue;\n",
       "\n",
       "  /* Specific color for light theme */\n",
       "  --sklearn-color-text-on-default-background: var(--sg-text-color, var(--theme-code-foreground, var(--jp-content-font-color1, black)));\n",
       "  --sklearn-color-background: var(--sg-background-color, var(--theme-background, var(--jp-layout-color0, white)));\n",
       "  --sklearn-color-border-box: var(--sg-text-color, var(--theme-code-foreground, var(--jp-content-font-color1, black)));\n",
       "  --sklearn-color-icon: #696969;\n",
       "\n",
       "  @media (prefers-color-scheme: dark) {\n",
       "    /* Redefinition of color scheme for dark theme */\n",
       "    --sklearn-color-text-on-default-background: var(--sg-text-color, var(--theme-code-foreground, var(--jp-content-font-color1, white)));\n",
       "    --sklearn-color-background: var(--sg-background-color, var(--theme-background, var(--jp-layout-color0, #111)));\n",
       "    --sklearn-color-border-box: var(--sg-text-color, var(--theme-code-foreground, var(--jp-content-font-color1, white)));\n",
       "    --sklearn-color-icon: #878787;\n",
       "  }\n",
       "}\n",
       "\n",
       "#sk-container-id-2 {\n",
       "  color: var(--sklearn-color-text);\n",
       "}\n",
       "\n",
       "#sk-container-id-2 pre {\n",
       "  padding: 0;\n",
       "}\n",
       "\n",
       "#sk-container-id-2 input.sk-hidden--visually {\n",
       "  border: 0;\n",
       "  clip: rect(1px 1px 1px 1px);\n",
       "  clip: rect(1px, 1px, 1px, 1px);\n",
       "  height: 1px;\n",
       "  margin: -1px;\n",
       "  overflow: hidden;\n",
       "  padding: 0;\n",
       "  position: absolute;\n",
       "  width: 1px;\n",
       "}\n",
       "\n",
       "#sk-container-id-2 div.sk-dashed-wrapped {\n",
       "  border: 1px dashed var(--sklearn-color-line);\n",
       "  margin: 0 0.4em 0.5em 0.4em;\n",
       "  box-sizing: border-box;\n",
       "  padding-bottom: 0.4em;\n",
       "  background-color: var(--sklearn-color-background);\n",
       "}\n",
       "\n",
       "#sk-container-id-2 div.sk-container {\n",
       "  /* jupyter's `normalize.less` sets `[hidden] { display: none; }`\n",
       "     but bootstrap.min.css set `[hidden] { display: none !important; }`\n",
       "     so we also need the `!important` here to be able to override the\n",
       "     default hidden behavior on the sphinx rendered scikit-learn.org.\n",
       "     See: https://github.com/scikit-learn/scikit-learn/issues/21755 */\n",
       "  display: inline-block !important;\n",
       "  position: relative;\n",
       "}\n",
       "\n",
       "#sk-container-id-2 div.sk-text-repr-fallback {\n",
       "  display: none;\n",
       "}\n",
       "\n",
       "div.sk-parallel-item,\n",
       "div.sk-serial,\n",
       "div.sk-item {\n",
       "  /* draw centered vertical line to link estimators */\n",
       "  background-image: linear-gradient(var(--sklearn-color-text-on-default-background), var(--sklearn-color-text-on-default-background));\n",
       "  background-size: 2px 100%;\n",
       "  background-repeat: no-repeat;\n",
       "  background-position: center center;\n",
       "}\n",
       "\n",
       "/* Parallel-specific style estimator block */\n",
       "\n",
       "#sk-container-id-2 div.sk-parallel-item::after {\n",
       "  content: \"\";\n",
       "  width: 100%;\n",
       "  border-bottom: 2px solid var(--sklearn-color-text-on-default-background);\n",
       "  flex-grow: 1;\n",
       "}\n",
       "\n",
       "#sk-container-id-2 div.sk-parallel {\n",
       "  display: flex;\n",
       "  align-items: stretch;\n",
       "  justify-content: center;\n",
       "  background-color: var(--sklearn-color-background);\n",
       "  position: relative;\n",
       "}\n",
       "\n",
       "#sk-container-id-2 div.sk-parallel-item {\n",
       "  display: flex;\n",
       "  flex-direction: column;\n",
       "}\n",
       "\n",
       "#sk-container-id-2 div.sk-parallel-item:first-child::after {\n",
       "  align-self: flex-end;\n",
       "  width: 50%;\n",
       "}\n",
       "\n",
       "#sk-container-id-2 div.sk-parallel-item:last-child::after {\n",
       "  align-self: flex-start;\n",
       "  width: 50%;\n",
       "}\n",
       "\n",
       "#sk-container-id-2 div.sk-parallel-item:only-child::after {\n",
       "  width: 0;\n",
       "}\n",
       "\n",
       "/* Serial-specific style estimator block */\n",
       "\n",
       "#sk-container-id-2 div.sk-serial {\n",
       "  display: flex;\n",
       "  flex-direction: column;\n",
       "  align-items: center;\n",
       "  background-color: var(--sklearn-color-background);\n",
       "  padding-right: 1em;\n",
       "  padding-left: 1em;\n",
       "}\n",
       "\n",
       "\n",
       "/* Toggleable style: style used for estimator/Pipeline/ColumnTransformer box that is\n",
       "clickable and can be expanded/collapsed.\n",
       "- Pipeline and ColumnTransformer use this feature and define the default style\n",
       "- Estimators will overwrite some part of the style using the `sk-estimator` class\n",
       "*/\n",
       "\n",
       "/* Pipeline and ColumnTransformer style (default) */\n",
       "\n",
       "#sk-container-id-2 div.sk-toggleable {\n",
       "  /* Default theme specific background. It is overwritten whether we have a\n",
       "  specific estimator or a Pipeline/ColumnTransformer */\n",
       "  background-color: var(--sklearn-color-background);\n",
       "}\n",
       "\n",
       "/* Toggleable label */\n",
       "#sk-container-id-2 label.sk-toggleable__label {\n",
       "  cursor: pointer;\n",
       "  display: block;\n",
       "  width: 100%;\n",
       "  margin-bottom: 0;\n",
       "  padding: 0.5em;\n",
       "  box-sizing: border-box;\n",
       "  text-align: center;\n",
       "}\n",
       "\n",
       "#sk-container-id-2 label.sk-toggleable__label-arrow:before {\n",
       "  /* Arrow on the left of the label */\n",
       "  content: \"▸\";\n",
       "  float: left;\n",
       "  margin-right: 0.25em;\n",
       "  color: var(--sklearn-color-icon);\n",
       "}\n",
       "\n",
       "#sk-container-id-2 label.sk-toggleable__label-arrow:hover:before {\n",
       "  color: var(--sklearn-color-text);\n",
       "}\n",
       "\n",
       "/* Toggleable content - dropdown */\n",
       "\n",
       "#sk-container-id-2 div.sk-toggleable__content {\n",
       "  max-height: 0;\n",
       "  max-width: 0;\n",
       "  overflow: hidden;\n",
       "  text-align: left;\n",
       "  /* unfitted */\n",
       "  background-color: var(--sklearn-color-unfitted-level-0);\n",
       "}\n",
       "\n",
       "#sk-container-id-2 div.sk-toggleable__content.fitted {\n",
       "  /* fitted */\n",
       "  background-color: var(--sklearn-color-fitted-level-0);\n",
       "}\n",
       "\n",
       "#sk-container-id-2 div.sk-toggleable__content pre {\n",
       "  margin: 0.2em;\n",
       "  border-radius: 0.25em;\n",
       "  color: var(--sklearn-color-text);\n",
       "  /* unfitted */\n",
       "  background-color: var(--sklearn-color-unfitted-level-0);\n",
       "}\n",
       "\n",
       "#sk-container-id-2 div.sk-toggleable__content.fitted pre {\n",
       "  /* unfitted */\n",
       "  background-color: var(--sklearn-color-fitted-level-0);\n",
       "}\n",
       "\n",
       "#sk-container-id-2 input.sk-toggleable__control:checked~div.sk-toggleable__content {\n",
       "  /* Expand drop-down */\n",
       "  max-height: 200px;\n",
       "  max-width: 100%;\n",
       "  overflow: auto;\n",
       "}\n",
       "\n",
       "#sk-container-id-2 input.sk-toggleable__control:checked~label.sk-toggleable__label-arrow:before {\n",
       "  content: \"▾\";\n",
       "}\n",
       "\n",
       "/* Pipeline/ColumnTransformer-specific style */\n",
       "\n",
       "#sk-container-id-2 div.sk-label input.sk-toggleable__control:checked~label.sk-toggleable__label {\n",
       "  color: var(--sklearn-color-text);\n",
       "  background-color: var(--sklearn-color-unfitted-level-2);\n",
       "}\n",
       "\n",
       "#sk-container-id-2 div.sk-label.fitted input.sk-toggleable__control:checked~label.sk-toggleable__label {\n",
       "  background-color: var(--sklearn-color-fitted-level-2);\n",
       "}\n",
       "\n",
       "/* Estimator-specific style */\n",
       "\n",
       "/* Colorize estimator box */\n",
       "#sk-container-id-2 div.sk-estimator input.sk-toggleable__control:checked~label.sk-toggleable__label {\n",
       "  /* unfitted */\n",
       "  background-color: var(--sklearn-color-unfitted-level-2);\n",
       "}\n",
       "\n",
       "#sk-container-id-2 div.sk-estimator.fitted input.sk-toggleable__control:checked~label.sk-toggleable__label {\n",
       "  /* fitted */\n",
       "  background-color: var(--sklearn-color-fitted-level-2);\n",
       "}\n",
       "\n",
       "#sk-container-id-2 div.sk-label label.sk-toggleable__label,\n",
       "#sk-container-id-2 div.sk-label label {\n",
       "  /* The background is the default theme color */\n",
       "  color: var(--sklearn-color-text-on-default-background);\n",
       "}\n",
       "\n",
       "/* On hover, darken the color of the background */\n",
       "#sk-container-id-2 div.sk-label:hover label.sk-toggleable__label {\n",
       "  color: var(--sklearn-color-text);\n",
       "  background-color: var(--sklearn-color-unfitted-level-2);\n",
       "}\n",
       "\n",
       "/* Label box, darken color on hover, fitted */\n",
       "#sk-container-id-2 div.sk-label.fitted:hover label.sk-toggleable__label.fitted {\n",
       "  color: var(--sklearn-color-text);\n",
       "  background-color: var(--sklearn-color-fitted-level-2);\n",
       "}\n",
       "\n",
       "/* Estimator label */\n",
       "\n",
       "#sk-container-id-2 div.sk-label label {\n",
       "  font-family: monospace;\n",
       "  font-weight: bold;\n",
       "  display: inline-block;\n",
       "  line-height: 1.2em;\n",
       "}\n",
       "\n",
       "#sk-container-id-2 div.sk-label-container {\n",
       "  text-align: center;\n",
       "}\n",
       "\n",
       "/* Estimator-specific */\n",
       "#sk-container-id-2 div.sk-estimator {\n",
       "  font-family: monospace;\n",
       "  border: 1px dotted var(--sklearn-color-border-box);\n",
       "  border-radius: 0.25em;\n",
       "  box-sizing: border-box;\n",
       "  margin-bottom: 0.5em;\n",
       "  /* unfitted */\n",
       "  background-color: var(--sklearn-color-unfitted-level-0);\n",
       "}\n",
       "\n",
       "#sk-container-id-2 div.sk-estimator.fitted {\n",
       "  /* fitted */\n",
       "  background-color: var(--sklearn-color-fitted-level-0);\n",
       "}\n",
       "\n",
       "/* on hover */\n",
       "#sk-container-id-2 div.sk-estimator:hover {\n",
       "  /* unfitted */\n",
       "  background-color: var(--sklearn-color-unfitted-level-2);\n",
       "}\n",
       "\n",
       "#sk-container-id-2 div.sk-estimator.fitted:hover {\n",
       "  /* fitted */\n",
       "  background-color: var(--sklearn-color-fitted-level-2);\n",
       "}\n",
       "\n",
       "/* Specification for estimator info (e.g. \"i\" and \"?\") */\n",
       "\n",
       "/* Common style for \"i\" and \"?\" */\n",
       "\n",
       ".sk-estimator-doc-link,\n",
       "a:link.sk-estimator-doc-link,\n",
       "a:visited.sk-estimator-doc-link {\n",
       "  float: right;\n",
       "  font-size: smaller;\n",
       "  line-height: 1em;\n",
       "  font-family: monospace;\n",
       "  background-color: var(--sklearn-color-background);\n",
       "  border-radius: 1em;\n",
       "  height: 1em;\n",
       "  width: 1em;\n",
       "  text-decoration: none !important;\n",
       "  margin-left: 1ex;\n",
       "  /* unfitted */\n",
       "  border: var(--sklearn-color-unfitted-level-1) 1pt solid;\n",
       "  color: var(--sklearn-color-unfitted-level-1);\n",
       "}\n",
       "\n",
       ".sk-estimator-doc-link.fitted,\n",
       "a:link.sk-estimator-doc-link.fitted,\n",
       "a:visited.sk-estimator-doc-link.fitted {\n",
       "  /* fitted */\n",
       "  border: var(--sklearn-color-fitted-level-1) 1pt solid;\n",
       "  color: var(--sklearn-color-fitted-level-1);\n",
       "}\n",
       "\n",
       "/* On hover */\n",
       "div.sk-estimator:hover .sk-estimator-doc-link:hover,\n",
       ".sk-estimator-doc-link:hover,\n",
       "div.sk-label-container:hover .sk-estimator-doc-link:hover,\n",
       ".sk-estimator-doc-link:hover {\n",
       "  /* unfitted */\n",
       "  background-color: var(--sklearn-color-unfitted-level-3);\n",
       "  color: var(--sklearn-color-background);\n",
       "  text-decoration: none;\n",
       "}\n",
       "\n",
       "div.sk-estimator.fitted:hover .sk-estimator-doc-link.fitted:hover,\n",
       ".sk-estimator-doc-link.fitted:hover,\n",
       "div.sk-label-container:hover .sk-estimator-doc-link.fitted:hover,\n",
       ".sk-estimator-doc-link.fitted:hover {\n",
       "  /* fitted */\n",
       "  background-color: var(--sklearn-color-fitted-level-3);\n",
       "  color: var(--sklearn-color-background);\n",
       "  text-decoration: none;\n",
       "}\n",
       "\n",
       "/* Span, style for the box shown on hovering the info icon */\n",
       ".sk-estimator-doc-link span {\n",
       "  display: none;\n",
       "  z-index: 9999;\n",
       "  position: relative;\n",
       "  font-weight: normal;\n",
       "  right: .2ex;\n",
       "  padding: .5ex;\n",
       "  margin: .5ex;\n",
       "  width: min-content;\n",
       "  min-width: 20ex;\n",
       "  max-width: 50ex;\n",
       "  color: var(--sklearn-color-text);\n",
       "  box-shadow: 2pt 2pt 4pt #999;\n",
       "  /* unfitted */\n",
       "  background: var(--sklearn-color-unfitted-level-0);\n",
       "  border: .5pt solid var(--sklearn-color-unfitted-level-3);\n",
       "}\n",
       "\n",
       ".sk-estimator-doc-link.fitted span {\n",
       "  /* fitted */\n",
       "  background: var(--sklearn-color-fitted-level-0);\n",
       "  border: var(--sklearn-color-fitted-level-3);\n",
       "}\n",
       "\n",
       ".sk-estimator-doc-link:hover span {\n",
       "  display: block;\n",
       "}\n",
       "\n",
       "/* \"?\"-specific style due to the `<a>` HTML tag */\n",
       "\n",
       "#sk-container-id-2 a.estimator_doc_link {\n",
       "  float: right;\n",
       "  font-size: 1rem;\n",
       "  line-height: 1em;\n",
       "  font-family: monospace;\n",
       "  background-color: var(--sklearn-color-background);\n",
       "  border-radius: 1rem;\n",
       "  height: 1rem;\n",
       "  width: 1rem;\n",
       "  text-decoration: none;\n",
       "  /* unfitted */\n",
       "  color: var(--sklearn-color-unfitted-level-1);\n",
       "  border: var(--sklearn-color-unfitted-level-1) 1pt solid;\n",
       "}\n",
       "\n",
       "#sk-container-id-2 a.estimator_doc_link.fitted {\n",
       "  /* fitted */\n",
       "  border: var(--sklearn-color-fitted-level-1) 1pt solid;\n",
       "  color: var(--sklearn-color-fitted-level-1);\n",
       "}\n",
       "\n",
       "/* On hover */\n",
       "#sk-container-id-2 a.estimator_doc_link:hover {\n",
       "  /* unfitted */\n",
       "  background-color: var(--sklearn-color-unfitted-level-3);\n",
       "  color: var(--sklearn-color-background);\n",
       "  text-decoration: none;\n",
       "}\n",
       "\n",
       "#sk-container-id-2 a.estimator_doc_link.fitted:hover {\n",
       "  /* fitted */\n",
       "  background-color: var(--sklearn-color-fitted-level-3);\n",
       "}\n",
       "</style><div id=\"sk-container-id-2\" class=\"sk-top-container\"><div class=\"sk-text-repr-fallback\"><pre>LinearRegression()</pre><b>In a Jupyter environment, please rerun this cell to show the HTML representation or trust the notebook. <br />On GitHub, the HTML representation is unable to render, please try loading this page with nbviewer.org.</b></div><div class=\"sk-container\" hidden><div class=\"sk-item\"><div class=\"sk-estimator fitted sk-toggleable\"><input class=\"sk-toggleable__control sk-hidden--visually\" id=\"sk-estimator-id-2\" type=\"checkbox\" checked><label for=\"sk-estimator-id-2\" class=\"sk-toggleable__label fitted sk-toggleable__label-arrow fitted\">&nbsp;&nbsp;LinearRegression<a class=\"sk-estimator-doc-link fitted\" rel=\"noreferrer\" target=\"_blank\" href=\"https://scikit-learn.org/1.4/modules/generated/sklearn.linear_model.LinearRegression.html\">?<span>Documentation for LinearRegression</span></a><span class=\"sk-estimator-doc-link fitted\">i<span>Fitted</span></span></label><div class=\"sk-toggleable__content fitted\"><pre>LinearRegression()</pre></div> </div></div></div></div>"
      ],
      "text/plain": [
       "LinearRegression()"
      ]
     },
     "execution_count": 90,
     "metadata": {},
     "output_type": "execute_result"
    }
   ],
   "source": [
    "import numpy as np\n",
    "from sklearn.linear_model import LinearRegression\n",
    "\n",
    "model = LinearRegression()\n",
    "model.fit(  X, y)"
   ]
  },
  {
   "cell_type": "code",
   "execution_count": 91,
   "metadata": {
    "colab": {
     "base_uri": "https://localhost:8080/"
    },
    "id": "IZbdThwOhQJi",
    "outputId": "dfa191b6-5596-4fe5-b3f6-fb9995ebf359"
   },
   "outputs": [
    {
     "name": "stdout",
     "output_type": "stream",
     "text": [
      "Mean Absolute Error (MAE): 3.339489175999998\n",
      "Mean Squared Error (MSE): 19.897921180947446\n",
      "Root Mean Squared Error (RMSE): 4.460708596282371\n",
      "Correlation Coefficient: 0.9997085393660079\n",
      "Average Percent Relative Error (%): 1.331205651163733\n",
      "Sum of Squared Residuals: 198.97921180947446\n"
     ]
    }
   ],
   "source": [
    "from sklearn.metrics import mean_absolute_error, mean_squared_error\n",
    "from scipy.stats import pearsonr\n",
    "import numpy as np\n",
    "\n",
    "# Example actual GOR values (y_true) and estimated GOR values (estimated_gor)\n",
    "y_true = np.array([737, 684, 620, 555, 492, 429, 365, 301, 235, 155])\n",
    "estimated_gor = np.array([739.00506346, 685.75514367, 620.8162171, 555.87729053, 490.93836396, 425.99943739, 361.06051082, 296.12158426, 231.18265769, 166.24373112])\n",
    "\n",
    "# Calculate Mean Absolute Error (MAE)\n",
    "mae = mean_absolute_error(y_true, estimated_gor)\n",
    "\n",
    "# Calculate Mean Squared Error (MSE)\n",
    "mse = mean_squared_error(y_true, estimated_gor)\n",
    "\n",
    "# Calculate Root Mean Squared Error (RMSE)\n",
    "rmse = np.sqrt(mse)\n",
    "\n",
    "# Calculate Correlation Coefficient\n",
    "correlation_coefficient, _ = pearsonr(y_true, estimated_gor)\n",
    "\n",
    "# Calculate Average Percent Relative Error (%)\n",
    "percent_relative_errors = np.abs((y_true - estimated_gor) / y_true) * 100\n",
    "average_percent_relative_error = np.mean(percent_relative_errors)\n",
    "\n",
    "# Calculate Sum of Squared Residuals\n",
    "squared_residuals = (y_true - estimated_gor) ** 2\n",
    "sum_squared_residuals = np.sum(squared_residuals)\n",
    "\n",
    "# Print results\n",
    "print(f\"Mean Absolute Error (MAE): {mae}\")\n",
    "print(f\"Mean Squared Error (MSE): {mse}\")\n",
    "print(f\"Root Mean Squared Error (RMSE): {rmse}\")\n",
    "print(f\"Correlation Coefficient: {correlation_coefficient}\")\n",
    "print(f\"Average Percent Relative Error (%): {average_percent_relative_error}\")\n",
    "print(f\"Sum of Squared Residuals: {sum_squared_residuals}\")\n"
   ]
  },
  {
   "cell_type": "markdown",
   "metadata": {
    "id": "aEDpvZ89hQy8"
   },
   "source": [
    "Mean Absolute Error (MAE): There is an average absolute difference of 3.34 between the estimated and actual values of GOR. This indicates that our forecasts are generally off by roughly 3.34 GOR units.\r\n",
    "\r\n",
    "Mean Squared Error (MSE): There is an average squared discrepancy of 19.90 between the estimated and real GOR values. Compared to MAE, MSE assigns greater weight to larger errors.\r\n",
    "\r\n",
    "Root Mean Squared Error (RMSE): RMSE is around 4.46, which is the square root of MSE. Similar to GOR, it offers a measurement of the error spread in the same units. According to RMSE, there is an average deviation of 4.46 units of GOR between our projections and actual val\n",
    "\n",
    "Correlation Coefficient: The estimated and real GOR values have a very strong linear relationship, as seen by the high correlation coefficient of roughly 0.9997. This implies that the predictions made by our model closely match the observed data.\r\n",
    "\r\n",
    "Average Percentage Relative Error (%): At around 1.33%, the average percentage relative error is calculated. This statistic demonstrates that our projections generally differ by 1.33% in either direction from the actual GOR values.\r\n",
    "\r\n",
    "Sum of Squared Residuals: The entire error between our anticipated and real GOR values is measured by the sum of squared residuals, which is roughly 198.98. Better model performance is indicated by lower values.\r\n",
    "ues."
   ]
  },
  {
   "cell_type": "markdown",
   "metadata": {
    "id": "svPnzYvtlZW4"
   },
   "source": [
    "### Cross Plot of Estimated vs Actual Gas Solubility"
   ]
  },
  {
   "cell_type": "code",
   "execution_count": 94,
   "metadata": {
    "colab": {
     "base_uri": "https://localhost:8080/",
     "height": 607
    },
    "id": "I44C_NuVlZcl",
    "outputId": "b5aa9412-4836-4bd6-8a6f-36f4604cb710"
   },
   "outputs": [
    {
     "data": {
      "image/png": "[encoded data removed]",
      "text/plain": [
       "<Figure size 500x500 with 1 Axes>"
      ]
     },
     "metadata": {},
     "output_type": "display_data"
    }
   ],
   "source": [
    "import matplotlib.pyplot as plt\n",
    "\n",
    "# Constants for gas solubility calculation (replace with actual values)\n",
    "gas_gravity = 0.743  # Specific gravity of gas\n",
    "api_gravity = 37     # API gravity of oil\n",
    "reservoir_pressure = 2000  # Example reservoir pressure in psi\n",
    "\n",
    "# Calculate estimated gas solubility\n",
    "def calculate_gas_solubility(gor):\n",
    "    return (gor * gas_gravity) / (api_gravity * reservoir_pressure)\n",
    "\n",
    "# Calculate actual gas solubility from PVT data\n",
    "actual_gas_solubility = []\n",
    "for data in pvt_data:\n",
    "    actual_gor = data['actual_gor']\n",
    "    actual_gas_solubility.append(calculate_gas_solubility(actual_gor))\n",
    "\n",
    "# Calculate estimated gas solubility from estimated GOR\n",
    "estimated_gas_solubility = []\n",
    "for gor in estimated_gor:\n",
    "    estimated_gas_solubility.append(calculate_gas_solubility(gor))\n",
    "\n",
    "# Plotting\n",
    "plt.figure(figsize=(5, 5))\n",
    "plt.scatter(actual_gas_solubility, estimated_gas_solubility, color='blue', label='Estimated vs Actual Gas Solubility')\n",
    "plt.plot([min(actual_gas_solubility), max(actual_gas_solubility)], [min(actual_gas_solubility), max(actual_gas_solubility)], color='red', linestyle='--', label='Ideal Fit')\n",
    "plt.xlabel('Actual Gas Solubility')\n",
    "plt.ylabel('Estimated Gas Solubility')\n",
    "plt.title('Cross Plot of Estimated vs Actual Gas Solubility')\n",
    "plt.legend()\n",
    "plt.grid(True)\n",
    "plt.tight_layout()\n",
    "plt.show()\n"
   ]
  },
  {
   "cell_type": "markdown",
   "metadata": {},
   "source": [
    "**Accurate Predictions**: The closely fitting red dashed line shows that our estimated gas solubility values match the actual values very well.\n",
    "\n",
    "**Strong Relationship**: The scatter plot's straight line suggests a clear connection between our estimated and actual gas solubility values. This means our method of predicting gas solubility using factors like GOR and pressure works effectively.\n",
    "\n",
    "**Model Confirmation**: The plot confirms that our method for estimating gas solubility is reliable. Most points fall close to the ideal line, showing that our predictions are consistent and accurate under specific reservoir conditions.\n",
    "\n",
    "**Performance Check**: By looking at how close the points are to the ideal line, we can see how well our model performs. A tight cluster around the line means our predictions are consistent, while larger differences might show where we can improve our model.\n",
    "\n",
    "**Real-world Use**: This confirmation supports using our model in real-world situations where knowing gas solubility accurately is important, like in managing reservoirs or planning gas extraction."
   ]
  },
  {
   "cell_type": "markdown",
   "metadata": {},
   "source": [
    "### Absolute error against Bubble Point Pressure"
   ]
  },
  {
   "cell_type": "code",
   "execution_count": 120,
   "metadata": {},
   "outputs": [
    {
     "data": {
      "image/png": "[encoded data removed]",
      "text/plain": [
       "<Figure size 500x500 with 1 Axes>"
      ]
     },
     "metadata": {},
     "output_type": "display_data"
    }
   ],
   "source": [
    "# Calculate absolute error\n",
    "absolute_error = [abs(estimated - actual) for estimated, actual in zip(estimated_gor, bubble_point_pressure)]\n",
    "\n",
    "# Error plot\n",
    "plt.figure(figsize=(5, 5))\n",
    "plt.plot(bubble_point_pressure, absolute_error, marker='o', linestyle='-', color='green', label='Absolute Error')\n",
    "plt.title('Absolute Error Plot')\n",
    "plt.xlabel('Bubble Point Pressure')\n",
    "plt.ylabel('Absolute Error')\n",
    "plt.legend()\n",
    "plt.grid(True)\n",
    "plt.show()\n"
   ]
  },
  {
   "cell_type": "code",
   "execution_count": 121,
   "metadata": {},
   "outputs": [
    {
     "data": {
      "text/plain": [
       "[2.005063459999974,\n",
       " 1.7551436700000522,\n",
       " 0.8162171000000171,\n",
       " 0.877290529999982,\n",
       " 1.0616360399999962,\n",
       " 3.0005626099999745,\n",
       " 3.9394891800000096,\n",
       " 4.87841573999998,\n",
       " 3.8173423099999866,\n",
       " 11.243731120000007]"
      ]
     },
     "execution_count": 121,
     "metadata": {},
     "output_type": "execute_result"
    }
   ],
   "source": [
    "absolute_error"
   ]
  },
  {
   "cell_type": "markdown",
   "metadata": {},
   "source": [
    "We can note that the **absolute error decreases as the Bubble Point Pressure (BPP) increases**.\n",
    "\n",
    "High Error at Low BPP: When BPP is between 0 and 200, the absolute error is relatively high, above 10.\n",
    "Moderate Error at Intermediate BPP: As BPP increases from 200 to 500, the absolute error fluctuates but generally trends downward, moving from around 4 to between 2 and 6.\n",
    "Low Error at High BPP: When BPP is between 500 and 700, the absolute error stabilizes at a low range of 0 to 2."
   ]
  },
  {
   "cell_type": "markdown",
   "metadata": {},
   "source": [
    "### Residual Plot"
   ]
  },
  {
   "cell_type": "code",
   "execution_count": 124,
   "metadata": {},
   "outputs": [
    {
     "name": "stdout",
     "output_type": "stream",
     "text": [
      "Residuals:\n",
      "Point 1: Bubble Point Pressure = 737, Residual = 2.005063459999974\n",
      "Point 2: Bubble Point Pressure = 684, Residual = 1.7551436700000522\n",
      "Point 3: Bubble Point Pressure = 620, Residual = 0.8162171000000171\n",
      "Point 4: Bubble Point Pressure = 555, Residual = 0.877290529999982\n",
      "Point 5: Bubble Point Pressure = 492, Residual = -1.0616360399999962\n",
      "Point 6: Bubble Point Pressure = 429, Residual = -3.0005626099999745\n",
      "Point 7: Bubble Point Pressure = 365, Residual = -3.9394891800000096\n",
      "Point 8: Bubble Point Pressure = 301, Residual = -4.87841573999998\n",
      "Point 9: Bubble Point Pressure = 235, Residual = -3.8173423099999866\n",
      "Point 10: Bubble Point Pressure = 155, Residual = 11.243731120000007\n"
     ]
    },
    {
     "data": {
      "image/png": "[encoded data removed]",
      "text/plain": [
       "<Figure size 800x600 with 1 Axes>"
      ]
     },
     "metadata": {},
     "output_type": "display_data"
    }
   ],
   "source": [
    "residuals = []\n",
    "for estimated, actual in zip(estimated_gor, bubble_point_pressure):\n",
    "    residual = estimated - actual\n",
    "    residuals.append(residual)\n",
    "\n",
    "# Print residuals\n",
    "print(\"Residuals:\")\n",
    "for i, (bubble_pressure, residual) in enumerate(zip(bubble_point_pressure, residuals), start=1):\n",
    "    print(f\"Point {i}: Bubble Point Pressure = {bubble_pressure}, Residual = {residual}\")\n",
    "\n",
    "# Residual plot\n",
    "plt.figure(figsize=(8, 6))\n",
    "plt.scatter(bubble_point_pressure, residuals, color='purple', label='Residuals')\n",
    "plt.axhline(y=0, color='red', linestyle='--', linewidth=1.5)\n",
    "plt.title('Residual Plot')\n",
    "plt.xlabel('Bubble Point Pressure')\n",
    "plt.ylabel('Residuals')\n",
    "plt.legend()\n",
    "plt.grid(True)\n",
    "plt.show()"
   ]
  },
  {
   "cell_type": "markdown",
   "metadata": {},
   "source": [
    "The perfect prediction line, when the estimated values exactly match the actual values, is represented by the horizontal line at zero in the residual plot. The model overestimated the real values, as indicated by the points above this line, and underestimated the actual values, as indicated by the points below it..\r\n",
    "ine."
   ]
  },
  {
   "cell_type": "markdown",
   "metadata": {},
   "source": [
    "The residuals' distribution around the zero line provides insight into the correctness of the model:\n",
    "\n",
    "**Symmetrical Distribution:** The model may not consistently exhibit a bias toward overestimating or underestimating the values if the residuals are distributed symmetrically around the zero line.\n",
    "\n",
    "**Random Scatter:** The model's errors are random when the residuals are scattered and do not exhibit any discernible pattern, indicating a decent fit. Relative to the data, patterns in the residuals may suggest that the model is lacking some important information or trends.\n",
    "\n",
    "**Size of Residuals:** Greater residuals show areas where the model's predictions substantially differ from actual values, whereas smaller residuals show more accurate forecasts.\n",
    "\n",
    "\n",
    "Although there are occasional deviations, particularly at the extremities of the data range, the majority of residuals in this instance are close to zero, suggesting that the model's predictions are generally accurate.\n"
   ]
  },
  {
   "cell_type": "markdown",
   "metadata": {},
   "source": [
    "### Mean Absolute Error Across BPP Categories"
   ]
  },
  {
   "cell_type": "code",
   "execution_count": null,
   "metadata": {
    "scrolled": true
   },
   "outputs": [],
   "source": [
    "import pandas as pd\n",
    "import matplotlib.pyplot as plt\n",
    "\n",
    "# Given data\n",
    "absolute_error = [\n",
    "    2.005063459999974, 1.7551436700000522, 0.8162171000000171, \n",
    "    0.877290529999982, 1.0616360399999962, 3.0005626099999745, \n",
    "    3.9394891800000096, 4.87841573999998, 3.8173423099999866, \n",
    "    11.243731120000007\n",
    "]\n",
    "bubble_point_pressure = [737, 684, 620, 555, 492, 429, 365, 301, 235, 155]\n",
    "\n",
    "# Create DataFrame\n",
    "data = pd.DataFrame({\n",
    "    'absolute_error': absolute_error,\n",
    "    'bubble_point_pressure': bubble_point_pressure\n",
    "})\n",
    "\n",
    "# Define bins for BPP categories\n",
    "bins = [0, 300, 500, 700, 800]  # Adjust bins as per your specific data range\n",
    "\n",
    "# Categorize BPP into bins\n",
    "data['bpp_category'] = pd.cut(data['bubble_point_pressure'], bins=bins, labels=['Low BPP', 'Medium BPP', 'High BPP', 'Very High BPP'])\n",
    "\n",
    "# Calculate mean absolute error for each BPP category\n",
    "absolute_errors_by_category = data.groupby('bpp_category')['absolute_error'].mean()\n"
   ]
  },
  {
   "cell_type": "code",
   "execution_count": 131,
   "metadata": {},
   "outputs": [
    {
     "data": {
      "text/plain": [
       "array([7.53053671, 3.22002589, 1.14955043, 2.00506346])"
      ]
     },
     "execution_count": 131,
     "metadata": {},
     "output_type": "execute_result"
    }
   ],
   "source": [
    "absolute_errors_by_category.values"
   ]
  },
  {
   "cell_type": "code",
   "execution_count": 132,
   "metadata": {},
   "outputs": [
    {
     "data": {
      "text/plain": [
       "CategoricalIndex(['Low BPP', 'Medium BPP', 'High BPP', 'Very High BPP'], categories=['Low BPP', 'Medium BPP', 'High BPP', 'Very High BPP'], ordered=True, dtype='category', name='bpp_category')"
      ]
     },
     "execution_count": 132,
     "metadata": {},
     "output_type": "execute_result"
    }
   ],
   "source": [
    "absolute_errors_by_category.index"
   ]
  },
  {
   "cell_type": "code",
   "execution_count": 133,
   "metadata": {},
   "outputs": [
    {
     "data": {
      "image/png": "[encoded data removed]",
      "text/plain": [
       "<Figure size 500x500 with 1 Axes>"
      ]
     },
     "metadata": {},
     "output_type": "display_data"
    }
   ],
   "source": [
    "# Plotting\n",
    "plt.figure(figsize=(5, 5))\n",
    "plt.bar(absolute_errors_by_category.index, absolute_errors_by_category.values, color='skyblue')\n",
    "plt.title('Mean Absolute Error Across BPP Categories')\n",
    "plt.xlabel('BPP Categories')\n",
    "plt.ylabel('Mean Absolute Error')\n",
    "plt.xticks(rotation=45)\n",
    "plt.grid(axis='y')\n",
    "plt.tight_layout()\n",
    "plt.show()"
   ]
  },
  {
   "cell_type": "markdown",
   "metadata": {},
   "source": [
    "The highest mean absolute error occurs in the Low BPP category, followed by Medium BPP, Very High BPP, and High BPP."
   ]
  }
 ],
 "metadata": {
  "colab": {
   "provenance": []
  },
  "kernelspec": {
   "display_name": "Python 3 (ipykernel)",
   "language": "python",
   "name": "python3"
  },
  "language_info": {
   "codemirror_mode": {
    "name": "ipython",
    "version": 3
   },
   "file_extension": ".py",
   "mimetype": "text/x-python",
   "name": "python",
   "nbconvert_exporter": "python",
   "pygments_lexer": "ipython3",
   "version": "3.12.4"
  }
 },
 "nbformat": 4,
 "nbformat_minor": 4
}
