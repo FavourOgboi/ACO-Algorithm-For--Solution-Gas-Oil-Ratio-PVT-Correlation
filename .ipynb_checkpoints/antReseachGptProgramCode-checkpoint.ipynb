{
  "cells": [
    {
      "cell_type": "code",
      "source": [
        "import numpy as np\n",
        "from scipy.optimize import differential_evolution\n",
        "\n",
        "# Define the correlation function (Standing's correlation example)\n",
        "def standing_correlation(parameters, bubble_point_pressure, api_gravity, gas_gravity, reservoir_temperature):\n",
        "    # Unpack the parameters\n",
        "    a, b, c, d = parameters\n",
        "    # Apply the correlation formula\n",
        "    estimated_gor = a * (bubble_point_pressure ** b) * (api_gravity ** c) * (gas_gravity ** d) * reservoir_temperature\n",
        "    return estimated_gor\n",
        "\n",
        "# Define the objective function for ACO\n",
        "def objective_function(parameters, pvt_data):\n",
        "    errors = []\n",
        "    for data in pvt_data:\n",
        "        bubble_point_pressure = data['bubble_point_pressure']\n",
        "        api_gravity = data['api_gravity']\n",
        "        gas_gravity = data['gas_gravity']\n",
        "        reservoir_temperature = data['reservoir_temperature']\n",
        "        actual_gor = data['actual_gor']\n",
        "\n",
        "        estimated_gor = standing_correlation(parameters, bubble_point_pressure, api_gravity, gas_gravity, reservoir_temperature)\n",
        "        error = (actual_gor - estimated_gor) ** 2\n",
        "        errors.append(error)\n",
        "    return np.mean(errors)\n",
        "\n",
        "# Example PVT data\n",
        "pvt_data = [\n",
        "    {'bubble_point_pressure': 2000, 'api_gravity': 35, 'gas_gravity': 0.85, 'reservoir_temperature': 180, 'actual_gor': 500},\n",
        "    {'bubble_point_pressure': 2500, 'api_gravity': 30, 'gas_gravity': 0.90, 'reservoir_temperature': 170, 'actual_gor': 600},\n",
        "    # Add more data points\n",
        "]\n",
        "\n",
        "# Define bounds for parameters (a, b, c, d)\n",
        "bounds = [(0, 10), (0, 2), (0, 2), (0, 2)]\n",
        "\n",
        "# Optimize using differential evolution (you can replace this with your ACO implementation)\n",
        "result = differential_evolution(objective_function, bounds, args=(pvt_data,), maxiter=1000)\n",
        "\n",
        "# Extract optimized parameters\n",
        "optimized_parameters = result.x\n",
        "\n",
        "print(f\"Optimized parameters: {optimized_parameters}\")\n"
      ],
      "metadata": {
        "id": "oopqNWXkRsmN",
        "outputId": "308b0f6f-b777-4d66-c258-f500bb022fcf",
        "colab": {
          "base_uri": "https://localhost:8080/"
        }
      },
      "execution_count": 1,
      "outputs": [
        {
          "output_type": "stream",
          "name": "stdout",
          "text": [
            "Optimized parameters: [0.04624935 0.5735996  0.01683336 1.99585303]\n"
          ]
        }
      ]
    },
    {
      "cell_type": "code",
      "source": [
        "def optimized_gor(bubble_point_pressure, api_gravity, gas_gravity, reservoir_temperature):\n",
        "    a, b, c, d = 0.04624935, 0.5735996, 0.01683336, 1.99585303\n",
        "    estimated_gor = (a * (bubble_point_pressure ** b) *\n",
        "                     (api_gravity ** c) *\n",
        "                     (gas_gravity ** d) *\n",
        "                     reservoir_temperature)\n",
        "    return estimated_gor\n",
        "\n",
        "# Example PVT conditions\n",
        "bubble_point_pressure = 2200\n",
        "api_gravity = 32\n",
        "gas_gravity = 0.88\n",
        "reservoir_temperature = 175\n",
        "\n",
        "# Calculate the estimated GOR\n",
        "estimated_gor = optimized_gor(bubble_point_pressure, api_gravity, gas_gravity, reservoir_temperature)\n",
        "print(f\"Estimated GOR: {estimated_gor}\")\n"
      ],
      "metadata": {
        "id": "SDQR5bd1SxLz",
        "outputId": "e776eb9a-c5a2-4dec-f7df-7f67bd63b243",
        "colab": {
          "base_uri": "https://localhost:8080/"
        }
      },
      "execution_count": 2,
      "outputs": [
        {
          "output_type": "stream",
          "name": "stdout",
          "text": [
            "Estimated GOR: 549.39954992264\n"
          ]
        }
      ]
    },
    {
      "cell_type": "code",
      "source": [
        "# Function to calculate the optimized GOR\n",
        "def optimized_gor(bubble_point_pressure, api_gravity, gas_gravity, reservoir_temperature):\n",
        "    a, b, c, d = 0.04624935, 0.5735996, 0.01683336, 1.99585303\n",
        "    estimated_gor = (a * (bubble_point_pressure ** b) *\n",
        "                     (api_gravity ** c) *\n",
        "                     (gas_gravity ** d) *\n",
        "                     reservoir_temperature)\n",
        "    return estimated_gor\n",
        "\n",
        "# Example PVT conditions\n",
        "bubble_point_pressure = 2200\n",
        "api_gravity = 32\n",
        "gas_gravity = 0.88\n",
        "reservoir_temperature = 175\n",
        "\n",
        "# Calculate the estimated GOR\n",
        "estimated_gor_value = optimized_gor(bubble_point_pressure, api_gravity, gas_gravity, reservoir_temperature)\n",
        "print(f\"Estimated GOR: {estimated_gor_value}\")\n"
      ],
      "metadata": {
        "id": "x0BxnKuTTOPj",
        "outputId": "57689ae0-c75b-46e7-abfe-13887e4b4c13",
        "colab": {
          "base_uri": "https://localhost:8080/"
        }
      },
      "execution_count": 3,
      "outputs": [
        {
          "output_type": "stream",
          "name": "stdout",
          "text": [
            "Estimated GOR: 549.39954992264\n"
          ]
        }
      ]
    },
    {
      "cell_type": "code",
      "source": [],
      "metadata": {
        "id": "It589zqnTPEz"
      },
      "execution_count": null,
      "outputs": []
    }
  ],
  "metadata": {
    "kernelspec": {
      "display_name": "Python 3",
      "language": "python",
      "name": "python3"
    },
    "language_info": {
      "codemirror_mode": {
        "name": "ipython",
        "version": 3
      },
      "file_extension": ".py",
      "mimetype": "text/x-python",
      "name": "python",
      "nbconvert_exporter": "python",
      "pygments_lexer": "ipython3",
      "version": "3.8.6"
    },
    "colab": {
      "provenance": []
    }
  },
  "nbformat": 4,
  "nbformat_minor": 0
}